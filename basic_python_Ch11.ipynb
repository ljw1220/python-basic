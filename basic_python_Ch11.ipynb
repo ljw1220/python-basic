{
  "nbformat": 4,
  "nbformat_minor": 0,
  "metadata": {
    "colab": {
      "name": "basic python_Ch11",
      "provenance": [],
      "authorship_tag": "ABX9TyPsdcBdaCIB09kXBTBWpoKJ",
      "include_colab_link": true
    },
    "kernelspec": {
      "name": "python3",
      "display_name": "Python 3"
    },
    "language_info": {
      "name": "python"
    }
  },
  "cells": [
    {
      "cell_type": "markdown",
      "metadata": {
        "id": "view-in-github",
        "colab_type": "text"
      },
      "source": [
        "<a href=\"https://colab.research.google.com/github/ljw1220/python-basic/blob/main/basic_python_Ch11.ipynb\" target=\"_parent\"><img src=\"https://colab.research.google.com/assets/colab-badge.svg\" alt=\"Open In Colab\"/></a>"
      ]
    },
    {
      "cell_type": "markdown",
      "source": [
        "제 11장 도전문제"
      ],
      "metadata": {
        "id": "zvbnbkt4ylN5"
      }
    },
    {
      "cell_type": "code",
      "source": [
        "from tkinter import*\n",
        "import random\n",
        "\n",
        "def show(char):\n",
        "    display.delete(0,END)\n",
        "    display.insert(0, \"단어를 추측하시오:\")\n",
        "    global blanked\n",
        "    blanked = 0\n",
        "    global guesses\n",
        "\n",
        "    for char in word:\n",
        "        if char in guesses:\n",
        "            display.insert(END, char)\n",
        "        else:\n",
        "            display.insert(END, \"_ \")\n",
        "            blanked += 1\n",
        "\n",
        "def click(char):\n",
        "    show(char)\n",
        "    global turns\n",
        "    global label\n",
        "    global blanked\n",
        "\n",
        "    if blanked == 0:\n",
        "        label = Label(root, text=\"사용자 승리\", width=20, height=1, fg=\"red\", relief=\"solid\")\n",
        "        label.grid(row=row_index, column=col_index, columnspan=5)\n",
        "        chooseWord()\n",
        "        return\n",
        "\n",
        "    if char not in word:\n",
        "        turns -= 1\n",
        "        label = Label(root, text=str(turns)+\"번의 기회가 남았음!\", width=20, height=1, fg=\"red\", relief=\"solid\")\n",
        "        label.grid(row=row_index, column=col_index, columnspan=5)\n",
        "\n",
        "    if turns <= 0:\n",
        "        label = Label(root, text=\"사용자 패배\", width=20, height=1, fg=\"red\", relief=\"solid\")\n",
        "        label.grid(row=row_index, column = col_index, columnspan=5)\n",
        "        chooseWord()\n",
        "        return\n",
        "\n",
        "def chooseWord():\n",
        "    global word\n",
        "    global turns\n",
        "    turns = 10\n",
        "    global guesses\n",
        "    guesses = \"\"\n",
        "    global label\n",
        "    label = Label(root, text=str(turns)+\"번의 기회가 남았음!\", width=20, height=1, fg=\"red\", relief=\"solid\")\n",
        "\n",
        "    infile = open(\"words.txt\", \"r\")\n",
        "    lines = infile.readlines()\n",
        "    word = random.choice(lines)\n",
        "    word = word.replace(\" \", \"\")\n",
        "    word = word.replace(\"\\n\", \"\")\n",
        "\n",
        "    show(\"\")\n",
        "\n",
        "root = Tk()\n",
        "root.title(\"Hangman Game\")\n",
        "root.geometry(\"300x225\")\n",
        "display = Entry(root, width=33, bg=\"yellow\")\n",
        "display.grid(row=0, column=0, columnspan=5)\n",
        "\n",
        "guesses = \"\"\n",
        "turns = 10\n",
        "word = \"\"\n",
        "\n",
        "chooseWord()\n",
        "\n",
        "button_list = ['a','b','c','d','e','f','g','h','i','j','k','l','m','n','o','p','q','r','s','t','u','v','w','x','y','z']\n",
        "\n",
        "row_index = 1\n",
        "col_index = 0\n",
        "\n",
        "blanked = 0\n",
        "display.delete(0, END)\n",
        "display.insert(0, \"단어를 추측하시오:\")\n",
        "show(\"\")\n",
        "\n",
        "for button_text in button_list:\n",
        "    def process(guess=button_text):\n",
        "        global guesses\n",
        "        global turns\n",
        "        guesses += guess\n",
        "        click(guess)\n",
        "\n",
        "Button(root, text=button_text, width=5, command=process).grid(row=row_index, column=col_index)\n",
        "col_index += 1\n",
        "if col_index > 4:\n",
        "    row_index += 1\n",
        "    col_index = 0\n",
        "\n",
        "row_index += 1\n",
        "root.mainloop()"
      ],
      "metadata": {
        "id": "tv7nn_PCyoWw"
      },
      "execution_count": null,
      "outputs": []
    },
    {
      "cell_type": "code",
      "source": [
        "import pickle\n",
        "#게임에서 사용되는 딕셔너리\n",
        "addressBook = {\"names\":[\"김김김\", \"이이이\", \"박박박\", \"홍길동\"], \"mails\":[\"aaa@gmail.com\", \"bbb@gmail.com\", \"ccc@gmail.com\", \"ddd@gmail.com\"],\"address\":[\"seoul\", \"daejeon\", \"daegu\", \"busan\"]}\n",
        "#이진파일오픈\n",
        "file = open(\"save.p\", \"wb\")\n",
        "#딕셔너리를 피클 파일에 저장\n",
        "pickle.dump(addressBook, file)\n",
        "#파일을 닫는다\n",
        "file.close()\n",
        "\n",
        "#이진 파일 오픈\n",
        "file = open(\"save.p\", \"rb\")\n",
        "#피클 파일에 딕셔너리를 로딩\n",
        "obj = pickle.load(file)\n",
        "print(obj)"
      ],
      "metadata": {
        "id": "RuP1yXlG9yVU"
      },
      "execution_count": null,
      "outputs": []
    },
    {
      "cell_type": "markdown",
      "source": [
        "제 11장 연습문제"
      ],
      "metadata": {
        "id": "J7R4d9teRTsS"
      }
    },
    {
      "cell_type": "code",
      "source": [
        "filename = input(\"파일 이름을 입력하시오.: \").strip()          #파일명 입력하는 부분\n",
        "infile = open(filename, \"r\")                                  #텍스트 파일을 여는 부분, 읽기까지 진행됨\n",
        "count = 0                                                    #count 초기화\n",
        "\n",
        "for line in infile:                                              #infile 즉, 파일에서 문자를 카운트하는 부분\n",
        "    for ch in line:\n",
        "        count += 1\n",
        "\n",
        "print(\"파일 안에는 총\", count, \"개의 글자가 있습니다.\")\n",
        "infile.close()"
      ],
      "metadata": {
        "id": "_2NzIgDSRYBO"
      },
      "execution_count": null,
      "outputs": []
    },
    {
      "cell_type": "code",
      "source": [
        "infilename = input(\"파일 이름을 입력하시오: \").strip()\n",
        "infile = open(infilename, \"r\")\n",
        "file_s = infile.read()\n",
        "removed_s = input(\"삭제할 문자열을 입력하시오: \").strip()\n",
        "modified_s = file_s.replace(removed_s, \"\")\n",
        "\n",
        "infile.close()\n",
        "outfile = open(infilename, \"w\")\n",
        "\n",
        "print(modified_s, file = outfile, end= \"\")\n",
        "print(\"변경된 파일이 저장되었습니다. 확인해보세요.\")\n",
        "outfile.close()"
      ],
      "metadata": {
        "id": "SFr5BMxlUIYI"
      },
      "execution_count": null,
      "outputs": []
    },
    {
      "cell_type": "code",
      "source": [
        "infile = open(filename, \"r\")\n",
        "for line in infile:\n",
        "    ...\n",
        "def countLine(line, counter):\n",
        "    for ch in line:\n",
        "        if ch.isalpha():\n",
        "            if ch in counter:\n",
        "                counter[ch] = counter[ch] + 1\n",
        "            else:\n",
        "                counter[ch] = 1\n",
        "\n",
        "fname = input(\"입력 파일 이름: \").strip()\n",
        "infile = open(fname, \"r\")\n",
        "\n",
        "my_dict = {}\n",
        "for line in infile:\n",
        "    countLine(line, my_dict)\n",
        "\n",
        "print(my_dict)\n",
        "infile.close()"
      ],
      "metadata": {
        "id": "VKc9i4-dV_Tr"
      },
      "execution_count": null,
      "outputs": []
    },
    {
      "cell_type": "code",
      "source": [
        "import pickle\n",
        "\n",
        "outfile = open(\"test.dat\", \"wb\")\n",
        "pickle.dump(12, outfile)\n",
        "pickle.dump(3.14, outfile)\n",
        "pickle.dump([1, 2, 3, 4, 5], outfile)\n",
        "outfile.close()\n",
        "\n",
        "infile = open(\"test.dat\", \"rb\")\n",
        "print(pickle.load(infile))\n",
        "print(pickle.load(infile))\n",
        "print(pickle.load(infile))\n",
        "infile.close()"
      ],
      "metadata": {
        "id": "RaXSkYxhd0Or"
      },
      "execution_count": null,
      "outputs": []
    },
    {
      "cell_type": "code",
      "source": [
        "inFileName = input(\"입력 파일 이름: \")\n",
        "outFileName = input(\"출력 파일 이름: \")\n",
        "\n",
        "infile = open(inFileName, \"r\")\n",
        "outfile = open(outFileName, \"w\")\n",
        "\n",
        "total = 0.0\n",
        "count = 0\n",
        "\n",
        "line = infile.readline()\n",
        "while line != \"\":\n",
        "    value = float(line)\n",
        "    total = tatal + value\n",
        "    count = count + 1\n",
        "    line = infile.readline()\n",
        "\n",
        "outfile.write(\"합계=\" + str(total) + \"\\n\")\n",
        "\n",
        "avg = total / count\n",
        "outfile.write(\"평균=\" + str(avg) + \"\\n\")\n",
        "\n",
        "infile.close()\n",
        "outfile.close()"
      ],
      "metadata": {
        "id": "dSRUTwxAe73x"
      },
      "execution_count": null,
      "outputs": []
    },
    {
      "cell_type": "code",
      "source": [
        "import pickle\n",
        "from tkinter import*\n",
        "\n",
        "phone_book = { }\n",
        "current = 0\n",
        "name = \"\"\n",
        "phone = \"\"\n",
        "\n",
        "window = Tk()\n",
        "\n",
        "frame1 = Frame(window)\n",
        "frame1.pack()\n",
        "Label(frame1, text=\"이름     \").grid(row=1,column=1,sticky=W)\n",
        "nameEntry = Entry(frame1, textvariable=  name, width=30)\n",
        "nameEntry.grid(row=1,column=2)\n",
        "\n",
        "frame2 = Frame(window)\n",
        "frame2.pack()\n",
        "Label(frame2, text=\"전화번호\").grid(row=1,column=1,sticky=W)\n",
        "phoneEntry = Entry(frame2, textvariable= phone, width=30)\n",
        "phoneEntry.grid(row=1,column=2)\n",
        "\n",
        "frame3 = Frame(window)\n",
        "frame3.pack()\n",
        "\n",
        "def save():\n",
        "    outfile = open(\"phonebook.dat\", \"wb\")\n",
        "    pickle.dump(phone_book, outfile)\n",
        "    print(\"주소들이 파일에 저장되어 있습니다.\")\n",
        "    outfile.close()\n",
        "\n",
        "def load():\n",
        "    infile = open(\"phonebook.dat\", \"rb\")\n",
        "    phone_book = pickle.load(infile)\n",
        "    infile.close()\n",
        "    print(\"파일에서 주소를 읽었습니다.\")\n",
        "    go_first()\n",
        "\n",
        "def add():\n",
        "    phone_book[nameEntry.get()] = phoneEntry.get()\n",
        "    print(phone_book)\n",
        "    save()\n",
        "\n",
        "def go_first():\n",
        "    global current\n",
        "    current = 0\n",
        "    ks = list(phone_book)\n",
        "    print(phone_book)\n",
        "    nameEntry.delete(0, END)\n",
        "    nameEntry.insert(0, ks[current])\n",
        "    phoneEntry.delete(0, END)\n",
        "    phoneEntry.insert(0, phone_book[ks[current]])\n",
        "\n",
        "def go_next():\n",
        "    global current\n",
        "    current += 1\n",
        "    ks = list(phone_book)\n",
        "    nameEntry.delete(0, END)\n",
        "    nameEntry.insert(0, ks[current])\n",
        "    phoneEntry.delete(0, END)\n",
        "    phoneEntry.insert(0, phone_book[ks[current]])\n",
        "\n",
        "def go_previous():\n",
        "    print(\"공사중_개발중이에요\")\n",
        "\n",
        "def go_last():\n",
        "    print(\"개발중입니다.\")\n",
        "\n",
        "b1 = Button(frame3, text=\"추가\", command =add).grid(row=1, column=1)\n",
        "b2 = Button(frame3, text=\"처음\", command =go_first).grid(row=1, column=2)\n",
        "b3 = Button(frame3, text=\"다음\", command =go_next).grid(row=1, column=3)\n",
        "b4 = Button(frame3, text=\"이전\", command =go_previous).grid(row=1, column=4)\n",
        "b5 = Button(frame3, text=\"마지막\", command =go_last).grid(row=1, column=5)\n",
        "b6 = Button(frame3, text=\"파일 읽기\", command =load).grid(row=1, column=6)\n",
        "\n",
        "window.mainloop()"
      ],
      "metadata": {
        "id": "ut-6xJKIgpc8"
      },
      "execution_count": null,
      "outputs": []
    }
  ]
}