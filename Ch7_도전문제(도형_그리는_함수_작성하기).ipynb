{
  "nbformat": 4,
  "nbformat_minor": 0,
  "metadata": {
    "colab": {
      "name": "Ch7 도전문제(도형 그리는 함수 작성하기)",
      "provenance": [],
      "authorship_tag": "ABX9TyOLkFVbQwScq68aj0/++beM",
      "include_colab_link": true
    },
    "kernelspec": {
      "name": "python3",
      "display_name": "Python 3"
    },
    "language_info": {
      "name": "python"
    }
  },
  "cells": [
    {
      "cell_type": "markdown",
      "metadata": {
        "id": "view-in-github",
        "colab_type": "text"
      },
      "source": [
        "<a href=\"https://colab.research.google.com/github/ljw1220/python-basic/blob/main/Ch7_%EB%8F%84%EC%A0%84%EB%AC%B8%EC%A0%9C(%EB%8F%84%ED%98%95_%EA%B7%B8%EB%A6%AC%EB%8A%94_%ED%95%A8%EC%88%98_%EC%9E%91%EC%84%B1%ED%95%98%EA%B8%B0).ipynb\" target=\"_parent\"><img src=\"https://colab.research.google.com/assets/colab-badge.svg\" alt=\"Open In Colab\"/></a>"
      ]
    },
    {
      "cell_type": "markdown",
      "metadata": {
        "id": "5m5OctDecPOy"
      },
      "source": [
        "사각형을 그리는 함수 작성하기"
      ]
    },
    {
      "cell_type": "code",
      "metadata": {
        "id": "Dz4lkZbPcX49"
      },
      "source": [
        "import turtle\n",
        "t = turtle.Turtle()\n",
        "t.shape(\"turtle\")\n",
        "\n",
        "def square(length):\n",
        "    for i in range(4):\n",
        "        t.forward(length)\n",
        "        t.left(90)\n",
        "t.up()\n",
        "t.goto(-200, 0)\n",
        "t.down()\n",
        "square(100)\n",
        "t.up()\n",
        "t.goto(0, 0)\n",
        "t.down()\n",
        "square(100)\n",
        "t.up()\n",
        "t.goto(200, 0)\n",
        "t.down()\n",
        "square(100)"
      ],
      "execution_count": null,
      "outputs": []
    },
    {
      "cell_type": "markdown",
      "metadata": {
        "id": "_nTT1wqog-Xd"
      },
      "source": [
        "[도전문제] 6각형을 그리는 함수도 작성할 수 있는가?"
      ]
    },
    {
      "cell_type": "code",
      "metadata": {
        "id": "7OhR61bghN9U"
      },
      "source": [
        "import turtle\n",
        "t = turtle.Turtle()\n",
        "t.shape(\"turtle\")\n",
        "\n",
        "def hexagon(length):\n",
        "    for i in range(6):\n",
        "        t.forward(length)\n",
        "        t.left(60)\n",
        "\n",
        "hexagon(100)"
      ],
      "execution_count": null,
      "outputs": []
    },
    {
      "cell_type": "markdown",
      "metadata": {
        "id": "yF-oBKJDrn2A"
      },
      "source": [
        "[도전문제] 일반적인 N-각형을 그리는 함수도 작성할 수 있는가?"
      ]
    },
    {
      "cell_type": "code",
      "metadata": {
        "id": "HD6h3QjSvLHD"
      },
      "source": [
        "#방법1 - 각도를 직접 계산하여 입력하여야 하는 방법\n",
        "import turtle\n",
        "t = turtle.Turtle()\n",
        "t.shape(\"turtle\")\n",
        "n = int(input(\"정수를 입력하시오: \"))\n",
        "x = int(input(\"각도를 입력하시오: \"))\n",
        "def shape(length):\n",
        "    for i in range(n):\n",
        "        t.forward(length)\n",
        "        t.left(x)\n",
        "shape(100)\n",
        "\n",
        "#방법2 - 각도를 따로 입력하지 않아도 됨. n각형의 n값만 입력하면 됨.\n",
        "import turtle\n",
        "t = turtle.Turtle()\n",
        "t.shape(\"turtle\")\n",
        "n = int(input(\"정수를 입력하시오: \"))\n",
        "def shape(length):\n",
        "    for i in range(n):\n",
        "        t.forward(length)\n",
        "        t.left(360/n)\n",
        "shape(100)"
      ],
      "execution_count": null,
      "outputs": []
    },
    {
      "cell_type": "markdown",
      "metadata": {
        "id": "_HeC2gHcI_qy"
      },
      "source": [
        "[도전문제] 몇 가지의 색상을 리스트에 저장하고 번갈아 사용해서 사각형을 채울 수 있는가?"
      ]
    },
    {
      "cell_type": "code",
      "metadata": {
        "id": "zTfAIsA5JJ3n"
      },
      "source": [
        "import turtle\n",
        "t = turtle.Turtle()\n",
        "t.shape(\"turtle\")\n",
        "def square(length, index):\n",
        "    t.color(colorList[index])\n",
        "    t.begin_fill()\n",
        "    for i in range(4):\n",
        "        t.forward(length)\n",
        "        t.left(90)\n",
        "    t.end_fill()\n",
        "colorList = [\"red\", \"blue\", \"green\"]\n",
        "x = -200\n",
        "for i in range(len(colorList)):\n",
        "    t.up()\n",
        "    t.goto(x, 0)\n",
        "    t.down()\n",
        "    square(100, i);\n",
        "    x += 200"
      ],
      "execution_count": null,
      "outputs": []
    }
  ]
}