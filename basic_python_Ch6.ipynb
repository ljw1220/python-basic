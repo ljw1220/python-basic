{
  "nbformat": 4,
  "nbformat_minor": 0,
  "metadata": {
    "colab": {
      "name": "basic python_Ch6",
      "provenance": [],
      "authorship_tag": "ABX9TyMIuS8TeWXlG/mCB/U1cj4P",
      "include_colab_link": true
    },
    "kernelspec": {
      "name": "python3",
      "display_name": "Python 3"
    },
    "language_info": {
      "name": "python"
    }
  },
  "cells": [
    {
      "cell_type": "markdown",
      "metadata": {
        "id": "view-in-github",
        "colab_type": "text"
      },
      "source": [
        "<a href=\"https://colab.research.google.com/github/ljw1220/python-basic/blob/main/basic_python_Ch6.ipynb\" target=\"_parent\"><img src=\"https://colab.research.google.com/assets/colab-badge.svg\" alt=\"Open In Colab\"/></a>"
      ]
    },
    {
      "cell_type": "markdown",
      "metadata": {
        "id": "EjrnKJtyWdCC"
      },
      "source": [
        "제 6장 도전문제"
      ]
    },
    {
      "cell_type": "code",
      "metadata": {
        "id": "p-dEtKOtWpsl"
      },
      "source": [
        "import turtle                   #turtle 모듈 불러오기\n",
        "t = turtle.Turtle()             #turtle을 t로 선언\n",
        "t.shape(\"turtle\")               #turtle 모듈의 아이콘을 거북이 모양으로 선언\n",
        "\n",
        "for i in range(6):              #6번 반복하도록 범위 설정\n",
        "    t.forward(100)              #앞으로 100픽셀 이동\n",
        "    t.left(360/6)               #360도를 6으로 나눈 각도만큼 왼쪽으로 회전"
      ],
      "execution_count": null,
      "outputs": []
    },
    {
      "cell_type": "code",
      "metadata": {
        "id": "0l8vCYFBp6nF"
      },
      "source": [
        "import turtle                                                  #turtle 모듈 불러오기\n",
        "t = turtle.Turtle()                                            #turtle을 t로 선언\n",
        "t.shape(\"turtle\")                                              #turtle 모듈의 아이콘을 거북이 모양으로 선언\n",
        "\n",
        "s = turtle.textinput(\"\", \"몇각형을 원하시나요?: \")             #몇각형을 원하는지 입력하는 칸 생성\n",
        "n = int(s)                                                     #변수 n 선언하고 정수형으로 받기\n",
        "s = turtle.textinput(\"\", \"한 변의 크기를 입력해주세요.: \")     #한 변의 크기를 입력하는 칸 생성\n",
        "len = int(s)                                                   #변수 len 선언하고 정수형으로 받기\n",
        "for i in range(n):                                             #n번 반복하도록 범위 설정\n",
        "    t.forward(len)                                             #입력한 길이만큼 앞으로 이동\n",
        "    t.left(360/n)                                              #360도를 입력한 n으로 나눈 만큼 왼쪽으로 회전"
      ],
      "execution_count": null,
      "outputs": []
    },
    {
      "cell_type": "code",
      "metadata": {
        "id": "f9C-TG16r_eA"
      },
      "source": [
        "import turtle                             #turtle 모듈 불러오기\n",
        "import random                             #랜덤 함수 불러오기\n",
        "t = turtle.Turtle()                       #turle을 t로 선언\n",
        "t.shape(\"turtle\")                         #turtle 모듈의 아이콘을 거북이 모양으로 선언\n",
        "\n",
        "for i in range(30):                       #30번 반복하도록 범위 설정\n",
        "    length = random.randint(1, 100)       #1에서 100까지 중에서 랜덤으로 길이 선택\n",
        "    t.forward(length)                     #선택된 길이만큼 앞으로 이동\n",
        "    angle = random.randint(1, 4)          #1에서 4까지 중에서 랜덤으로 선택\n",
        "    t.right(90 * angle)                   #90도*1에서 4 중 랜덤으로 선택된 수, 즉 90도, 180도, 270도, 360도 중 선택된 각도만큼 오른쪽으로 회전"
      ],
      "execution_count": null,
      "outputs": []
    },
    {
      "cell_type": "code",
      "metadata": {
        "colab": {
          "base_uri": "https://localhost:8080/"
        },
        "id": "9o1EBz_8G8n7",
        "outputId": "ba09ee07-571c-4c83-c12f-cfcb1aa52f28"
      },
      "source": [
        "i = 1\n",
        "while i <= 9:                            #i의 범위; 1~9\n",
        "    j = 1\n",
        "    while j <=9:                         #j의 범위; 1~9\n",
        "        print(i, \"*\", j, \"=\", i*j)       #\"i * j = 계산값\" 출력\n",
        "        j = j + 1\n",
        "    print(\" \")\n",
        "    i = i + 1"
      ],
      "execution_count": null,
      "outputs": [
        {
          "output_type": "stream",
          "name": "stdout",
          "text": [
            "1 * 1 = 1\n",
            "1 * 2 = 2\n",
            "1 * 3 = 3\n",
            "1 * 4 = 4\n",
            "1 * 5 = 5\n",
            "1 * 6 = 6\n",
            "1 * 7 = 7\n",
            "1 * 8 = 8\n",
            "1 * 9 = 9\n",
            " \n",
            "2 * 1 = 2\n",
            "2 * 2 = 4\n",
            "2 * 3 = 6\n",
            "2 * 4 = 8\n",
            "2 * 5 = 10\n",
            "2 * 6 = 12\n",
            "2 * 7 = 14\n",
            "2 * 8 = 16\n",
            "2 * 9 = 18\n",
            " \n",
            "3 * 1 = 3\n",
            "3 * 2 = 6\n",
            "3 * 3 = 9\n",
            "3 * 4 = 12\n",
            "3 * 5 = 15\n",
            "3 * 6 = 18\n",
            "3 * 7 = 21\n",
            "3 * 8 = 24\n",
            "3 * 9 = 27\n",
            " \n",
            "4 * 1 = 4\n",
            "4 * 2 = 8\n",
            "4 * 3 = 12\n",
            "4 * 4 = 16\n",
            "4 * 5 = 20\n",
            "4 * 6 = 24\n",
            "4 * 7 = 28\n",
            "4 * 8 = 32\n",
            "4 * 9 = 36\n",
            " \n",
            "5 * 1 = 5\n",
            "5 * 2 = 10\n",
            "5 * 3 = 15\n",
            "5 * 4 = 20\n",
            "5 * 5 = 25\n",
            "5 * 6 = 30\n",
            "5 * 7 = 35\n",
            "5 * 8 = 40\n",
            "5 * 9 = 45\n",
            " \n",
            "6 * 1 = 6\n",
            "6 * 2 = 12\n",
            "6 * 3 = 18\n",
            "6 * 4 = 24\n",
            "6 * 5 = 30\n",
            "6 * 6 = 36\n",
            "6 * 7 = 42\n",
            "6 * 8 = 48\n",
            "6 * 9 = 54\n",
            " \n",
            "7 * 1 = 7\n",
            "7 * 2 = 14\n",
            "7 * 3 = 21\n",
            "7 * 4 = 28\n",
            "7 * 5 = 35\n",
            "7 * 6 = 42\n",
            "7 * 7 = 49\n",
            "7 * 8 = 56\n",
            "7 * 9 = 63\n",
            " \n",
            "8 * 1 = 8\n",
            "8 * 2 = 16\n",
            "8 * 3 = 24\n",
            "8 * 4 = 32\n",
            "8 * 5 = 40\n",
            "8 * 6 = 48\n",
            "8 * 7 = 56\n",
            "8 * 8 = 64\n",
            "8 * 9 = 72\n",
            " \n",
            "9 * 1 = 9\n",
            "9 * 2 = 18\n",
            "9 * 3 = 27\n",
            "9 * 4 = 36\n",
            "9 * 5 = 45\n",
            "9 * 6 = 54\n",
            "9 * 7 = 63\n",
            "9 * 8 = 72\n",
            "9 * 9 = 81\n",
            " \n"
          ]
        }
      ]
    },
    {
      "cell_type": "code",
      "source": [
        "import random                                       #랜덤 함수 불러오기\n",
        "while True:                                         #무한 루프\n",
        "    q = random.randint(0, 1)                        #변수 q를 선언하고 랜덤 선택\n",
        "    x = random.randint(1, 100)                      #변수 x를 선언하고 랜덤 선택\n",
        "    y = random.randint(1, 100)                      #변수 y를 선언하고 랜덤 선택\n",
        "    if (q == 1) & (x > y):                          #q가 1이고 x가 y보다 큰 경우\n",
        "        print(x, \"-\", y, \"=\", end= \" \")             #\"x-y= \" 출력(뺄셈 문제 출력)\n",
        "        answer = int(input())                       #변수 answer 선언하고 정수형으로 받기\n",
        "        if answer == x - y:                         #답이 x - y와 일치할 경우(정답일 경우)\n",
        "            print(\"잘했어요!!\")                     #\"잘했어요!!\" 출력\n",
        "        else:                                       #나머지 경우(오답일 경우)\n",
        "            print(\"다음번에는 잘 할 수 있죠?\")      #\"다음번에는 잘 할 수 있죠?\" 출력\n",
        "    \n",
        "    else:                                           #나머지 경우(q가 1이고 x가 y보다 큰 경우의 나머지)\n",
        "        print(x, \"+\", y, \"=\", end= \" \")             #\"x+y= \" 출력(덧셈 문제 출력)\n",
        "        answer = int(input())                       #변수 answer 선언하고 정수형으로 받기\n",
        "        if answer == x + y:                         #답이 x + y와 일치할 경우(정답일 경우)\n",
        "            print(\"잘했어요!!\")                     #\"잘했어요!!\" 출력\n",
        "        else:                                       #나머지 경우(오답일 경우)\n",
        "            print(\"다음번에는 잘 할 수 있죠?\")      #\"다음번에는 잘 할 수 있죠?\" 출력"
      ],
      "metadata": {
        "id": "Qom380d339A7"
      },
      "execution_count": null,
      "outputs": []
    },
    {
      "cell_type": "markdown",
      "source": [
        "제 6장 연습문제"
      ],
      "metadata": {
        "id": "ONuzAhnExxzU"
      }
    },
    {
      "cell_type": "code",
      "source": [
        "for i in range(2, 101):           #반복 범위 설정\n",
        "    if i%2 == 0 :                 #변수 i를 2로 나눈 나머지가 0일 경우\n",
        "        print(i, end = \" \")                  "
      ],
      "metadata": {
        "colab": {
          "base_uri": "https://localhost:8080/"
        },
        "id": "AHwr6wog0FX3",
        "outputId": "6e2d7f6d-c0e3-45e2-fa71-b2ee0d8add16"
      },
      "execution_count": null,
      "outputs": [
        {
          "output_type": "stream",
          "name": "stdout",
          "text": [
            "2 4 6 8 10 12 14 16 18 20 22 24 26 28 30 32 34 36 38 40 42 44 46 48 50 52 54 56 58 60 62 64 66 68 70 72 74 76 78 80 82 84 86 88 90 92 94 96 98 100 "
          ]
        }
      ]
    },
    {
      "cell_type": "code",
      "source": [
        "year = 0\n",
        "balance = 1000\n",
        "\n",
        "while balance <= 2000 :              # 기존의 코드 >= 에서 <= 로 바꿔야 한다.(2000보다 작거나 같은 조건)\n",
        "    year = year + 1\n",
        "    interest = balance * 0.07        #변수 interest 선언\n",
        "    balance = balance + interest\n",
        "print(year, \"년이 걸립니다.\")        #\"~년이 걸립니다.\" 출력"
      ],
      "metadata": {
        "colab": {
          "base_uri": "https://localhost:8080/"
        },
        "id": "ePo9KvPV4AXy",
        "outputId": "c2763888-6cd2-4ede-d089-7875baf48df0"
      },
      "execution_count": null,
      "outputs": [
        {
          "output_type": "stream",
          "name": "stdout",
          "text": [
            "11 년이 걸립니다.\n"
          ]
        }
      ]
    },
    {
      "cell_type": "code",
      "source": [
        "n = 1234\n",
        "sum = 0\n",
        "while n > 0:                 #0보다 큰 조건\n",
        "    digit = n % 10           #n을 10으로 나눈 나머지 계산\n",
        "    sum = sum + digit\n",
        "    n = n // 10              #n을 10으로 나눈 몫 계산\n",
        "print(sum)"
      ],
      "metadata": {
        "colab": {
          "base_uri": "https://localhost:8080/"
        },
        "id": "hllhXf-vsZ3-",
        "outputId": "89faeae1-baf7-4ad6-f4a4-a96cfd4cbfad"
      },
      "execution_count": 1,
      "outputs": [
        {
          "output_type": "stream",
          "name": "stdout",
          "text": [
            "10\n"
          ]
        }
      ]
    },
    {
      "cell_type": "code",
      "source": [
        "ans = 0\n",
        "while ans != 3*9 :                    #어떤 조건을 만족할 때까지 반복하는 것은 while 사용\n",
        "    ans = int(input(\"3 x 9는?\"))    #변수 ans를 정수형으로 받기\n",
        "print(\"맞았습니다.\")                 #사용자의 답이 맞았을 때(조건 만족했을 때) \"맞았습니다\" 출력"
      ],
      "metadata": {
        "colab": {
          "base_uri": "https://localhost:8080/"
        },
        "id": "JVRlPVg3vBx-",
        "outputId": "de99ab56-313c-4753-d675-b8b29682cf17"
      },
      "execution_count": 2,
      "outputs": [
        {
          "output_type": "stream",
          "name": "stdout",
          "text": [
            "3 x 9는?18\n",
            "3 x 9는?27\n",
            "맞았습니다.\n"
          ]
        }
      ]
    },
    {
      "cell_type": "code",
      "source": [
        "sum = 0\n",
        "while True:                                  #무한루프\n",
        "    x = int(input(\"정수를 입력하시오: \"))    #변수 x를 선언하고 정수형으로 받기\n",
        "    if x == 0:                               #입력한 정수 x값이 0일 경우\n",
        "        break;                               #break를 걸어 종료\n",
        "    sum = sum + x\n",
        "print(\"합은 \", sum, \"입니다.\")               #입력한 정수들의 합 출력"
      ],
      "metadata": {
        "colab": {
          "base_uri": "https://localhost:8080/"
        },
        "id": "6yfpPED66DwY",
        "outputId": "9f7af32f-fd35-4644-e916-a0088bd77466"
      },
      "execution_count": 3,
      "outputs": [
        {
          "output_type": "stream",
          "name": "stdout",
          "text": [
            "정수를 입력하시오: 5\n",
            "정수를 입력하시오: 4\n",
            "정수를 입력하시오: 3\n",
            "정수를 입력하시오: 2\n",
            "정수를 입력하시오: 1\n",
            "정수를 입력하시오: 0\n",
            "합은  15 입니다.\n"
          ]
        }
      ]
    },
    {
      "cell_type": "code",
      "source": [
        "from random import randint\n",
        "\n",
        "for i in range(3) :                                           #3번 반복하도록 범위 설정\n",
        "    d1 = randint(1, 6)                                        #첫번째 주사위; 1에서 6 중 랜덤 선택\n",
        "    d2 = randint(1, 6)                                        #두번째 주사위; 1에서 6 중 랜덤 선택\n",
        "    print(\"첫번째 주사위=\", d1, \"두번째 주사위=\", d2)         #랜덤 선택된 첫번째 주사위와 두번째 주사위 출력"
      ],
      "metadata": {
        "colab": {
          "base_uri": "https://localhost:8080/"
        },
        "id": "R2MGYg1Z97vP",
        "outputId": "6c163dc3-c6f7-40bb-868c-05a21e67e6d3"
      },
      "execution_count": 4,
      "outputs": [
        {
          "output_type": "stream",
          "name": "stdout",
          "text": [
            "첫번째 주사위= 2 두번째 주사위= 5\n",
            "첫번째 주사위= 6 두번째 주사위= 5\n",
            "첫번째 주사위= 3 두번째 주사위= 5\n"
          ]
        }
      ]
    },
    {
      "cell_type": "code",
      "source": [
        "import turtle                    #turtle 모듈 불러오기\n",
        "t = turtle.Turtle()              #turtle을 t로 선언\n",
        "t.shape(\"turtle\")                #turtle 모듈의 아이콘을 거북이 모양으로 선언\n",
        "t.left(90)                       #왼쪽으로 90도 회전\n",
        "\n",
        "for i in range (1, 7):           #반복 범위 설정\n",
        "    t.forward(100)               #앞으로 100픽셀 이동\n",
        "    t.forward(-30)               #뒤로 30픽셀 이동\n",
        "    t.left(60)                   #왼쪽으로 60도 회전\n",
        "    t.forward(30)                #앞으로 30픽셀 이동\n",
        "    t.forward(-30)               #뒤로 30픽셀 이동\n",
        "\n",
        "    t.right(120)                 #오른쪽으로 120도 회전\n",
        "    t.forward(30)                #앞으로 30픽셀 이동\n",
        "    t.forward(-30)               #뒤로 30픽셀 이동\n",
        "\n",
        "    t.left(60)                   #왼쪽으로 60도 회전\n",
        "    t.forward(-70)               #뒤로 70픽셀 이동\n",
        "    t.left(60)                   #왼쪽으로 60도 회전"
      ],
      "metadata": {
        "id": "OwZvnT-hFCMI"
      },
      "execution_count": null,
      "outputs": []
    },
    {
      "cell_type": "code",
      "source": [
        "import turtle                 #turtle 모듈 불러오기\n",
        "\n",
        "myPen = turtle.Turtle()       #turtle을 myPen으로 선언\n",
        "myPen.speed(0)\n",
        "myPen.color(\"#ff0000\")        #펜 색상 설정\n",
        "\n",
        "for j in range(1, 10):        #반복 범위 설정\n",
        "    for i in range(1, 6):     #반복 범위 설정\n",
        "        myPen.left(144)       #왼쪽으로 144도 회전\n",
        "        myPen.forward(200)    #앞으로 200픽셀 이동\n",
        "    myPen.left(10)            #왼쪽으로 10도 회전"
      ],
      "metadata": {
        "id": "47kJKSj8nCks"
      },
      "execution_count": null,
      "outputs": []
    },
    {
      "cell_type": "code",
      "source": [
        "import turtle                        #turtle 모듈 불러오기\n",
        "import random                        #랜덤 함수 불러오기\n",
        "t = turtle.Turtle()                  #turtle을 t로 선언\n",
        "t.shape(\"turtle\")                    #turtle 모듈의 아이콘을 거북이 모양으로 선언\n",
        "\n",
        "for j in range (1, 11):              #반복 범위 설정\n",
        "    t.up()                           #펜 들기\n",
        "    x = random.randint(-200, 200)    #x좌표 랜덤 선택\n",
        "    y = random.randint(-200, 200)    #y좌표 랜덤 선택\n",
        "    r = random.randint(10, 200)      #반지름 길이 랜덤 선택\n",
        "    t.goto(x, y)                     #랜덤 선택된 좌표로 이동\n",
        "    t.down()                         #펜 내려놓기\n",
        "    t.circle(r)                      #반지름이 r인 원 그리기"
      ],
      "metadata": {
        "id": "j5g9DbxByeaQ"
      },
      "execution_count": null,
      "outputs": []
    },
    {
      "cell_type": "code",
      "source": [
        "import turtle                        #turtle 모듈 불러오기\n",
        "t = turtle.Turtle()                  #turtle을 t로 선언\n",
        "t.shape(\"turtle\")                    #turtle 모듈의 아이콘을 거북이 모양으로 선언\n",
        "\n",
        "for i in range(5):                   #5번 반복하도록 범위 설정\n",
        "    t.forward(200)                   #앞으로 200픽셀 이동\n",
        "    t.right(90)                      #오른쪽으로 90도 회전\n",
        "    t.forward(20)                    #앞으로 20픽셀 이동\n",
        "    t.right(90)                      #오른쪽으로 90도 회전\n",
        "    t.forward(200)                   #앞으로 200픽셀 이동\n",
        "    t.left(90)                       #왼쪽으로 90도 회전\n",
        "    t.forward(20)                    #앞으로 20픽셀 이동\n",
        "    t.left(90)                       #왼쪽으로 90도 회전"
      ],
      "metadata": {
        "id": "5uNyt27V2Wt3"
      },
      "execution_count": null,
      "outputs": []
    },
    {
      "cell_type": "code",
      "source": [
        "import turtle                        #turtle 모듈 불러오기\n",
        "t = turtle.Turtle()                  #turtle을 t로 선언\n",
        "t.shape(\"turtle\")                    #turtle 모듈의 아이콘을 거북이 모양으로 선언\n",
        "t.color('red', 'yellow')             #도형의 선 색상과 채우기 색상을 각각 설정\n",
        "t.begin_fill()                       #속이 채워진 도형이 그려짐\n",
        "while True:                          #무한루프\n",
        "    t.forward(200)                   #앞으로 200픽셀 이동\n",
        "    t.left(170)                      #왼쪽으로 170도 회전\n",
        "    if abs(t.pos()) < 1:             #pos() 함수:거북이의 좌표 반환, abs() 함수:절대값 계산\n",
        "        break                        #반복루프 종료\n",
        "t.end_fill()"
      ],
      "metadata": {
        "id": "1dzRIJQL5hz_"
      },
      "execution_count": null,
      "outputs": []
    },
    {
      "cell_type": "code",
      "source": [
        "import turtle                                #turtle 모듈 불러오기\n",
        "import math\n",
        "\n",
        "t = turtle.Turtle()                          #turtle을 t로 선언\n",
        "t.shape(\"turtle\")                            #turtle 모듈의 아이콘을 거북이 모양으로 선언\n",
        "t.color('red', 'yellow')                     #선 색상과 채우기 색상 각각 설정\n",
        "\n",
        "for x in range(0, 360):                      #반복 범위 설정\n",
        "    t.goto(x, 200 * math.sin(x*3.14/180))    #각도를 라디안으로 변환하는 식 사용"
      ],
      "metadata": {
        "id": "egVnI7-R8vxM"
      },
      "execution_count": null,
      "outputs": []
    }
  ]
}