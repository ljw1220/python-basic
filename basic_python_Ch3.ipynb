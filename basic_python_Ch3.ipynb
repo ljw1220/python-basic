{
  "nbformat": 4,
  "nbformat_minor": 0,
  "metadata": {
    "colab": {
      "name": "basic python_Ch3",
      "provenance": [],
      "authorship_tag": "ABX9TyN4YvsYW0J+j2c2cVW3OzNd",
      "include_colab_link": true
    },
    "kernelspec": {
      "name": "python3",
      "display_name": "Python 3"
    },
    "language_info": {
      "name": "python"
    }
  },
  "cells": [
    {
      "cell_type": "markdown",
      "metadata": {
        "id": "view-in-github",
        "colab_type": "text"
      },
      "source": [
        "<a href=\"https://colab.research.google.com/github/ljw1220/python-basic/blob/main/basic_python_Ch3.ipynb\" target=\"_parent\"><img src=\"https://colab.research.google.com/assets/colab-badge.svg\" alt=\"Open In Colab\"/></a>"
      ]
    },
    {
      "cell_type": "markdown",
      "metadata": {
        "id": "o8xGMmkXp3b7"
      },
      "source": [
        "제 3장 도전문제"
      ]
    },
    {
      "cell_type": "code",
      "metadata": {
        "colab": {
          "base_uri": "https://localhost:8080/"
        },
        "id": "GdnaeLy0p7Gi",
        "outputId": "7ad603b2-b3cb-45b0-925b-f25f80155650"
      },
      "source": [
        "total = 100000                                        #총 재료 비용\n",
        "americano_price = 2000                                #아메리카노 가격\n",
        "cafelatte_price = 3000                                #카페라테 가격\n",
        "capucino_price = 3500                                 #카푸치노 가격\n",
        "americanos = int(input(\"아메리카노 판매 개수: \"))     #변수 americanos를 선언하고 정수형으로 받는다\n",
        "cafelattes = int(input(\"카페라테 판매 개수: \"))       #변수 cafelattes를 선언하고 정수형으로 받는다\n",
        "capucinos = int(input(\"카푸치노 판매 개수: \"))        #변수 capucinos를 선언하고 정수형으로 받는다\n",
        "sales = americanos * americano_price                  #판매한 아케리카노 가격\n",
        "sales = sales + cafelattes * cafelatte_price          #판매한 아메리카노와 카페라테 가격\n",
        "sales = sales + capucinos * capucino_price            #판매한 아메리카노, 카페라테. 카푸치노 가격(총 매출)\n",
        "print(\"총 매출은\", sales, \"입니다.\")                  #총 매출 출력\n",
        "if(total < sales) : print(\"흑자입니다.\")              #총 매출이 총 재료 비용보다 크면 \"흑자입니다,\"를 출력\n",
        "else : print(\"적자입니다.\")                           #그렇지 않은 경우는 \"적자입니다.\"를 출력"
      ],
      "execution_count": null,
      "outputs": [
        {
          "output_type": "stream",
          "name": "stdout",
          "text": [
            "아메리카노 판매 개수: 25\n",
            "카페라테 판매 개수: 15\n",
            "카푸치노 판매 개수: 15\n",
            "총 매출은 147500 입니다.\n",
            "흑자입니다.\n"
          ]
        }
      ]
    },
    {
      "cell_type": "code",
      "metadata": {
        "id": "eJd2ixrNvp1U",
        "colab": {
          "base_uri": "https://localhost:8080/"
        },
        "outputId": "31c8d6a3-5b11-411f-b2fd-f2699ac32c60"
      },
      "source": [
        "ctemp = int(input(\"섭씨온도: \"))    #변수 ctempf를 선언하고 정수형으로 받는다\n",
        "ftemp = 9 / 5 * ctemp + 32          #화씨온도 계산하는 식\n",
        "print(\"화씨온도: \", ftemp)          #화씨온도 출력"
      ],
      "execution_count": null,
      "outputs": [
        {
          "output_type": "stream",
          "name": "stdout",
          "text": [
            "섭씨온도: 20\n",
            "화씨온도:  68.0\n"
          ]
        }
      ]
    },
    {
      "cell_type": "code",
      "metadata": {
        "colab": {
          "base_uri": "https://localhost:8080/"
        },
        "id": "urEwB9Dl922t",
        "outputId": "e5442938-45d6-415a-b545-4392dc423a4e"
      },
      "source": [
        "money = int(input(\"투입한 돈: \"))          #변수 money를 선언하고 정수형으로 받는다\n",
        "price = int(input(\"물건 값: \"))            #변수 price를 선언하고 정수형으로 받는다\n",
        "change = money - price                     #거스름돈 계산하기\n",
        "print(\"거스름돈: \", change)                #거스름돈 출력\n",
        "coin500s = change // 500                   #500으로 나눈 몫(500원 동전의 개수) 계산하기\n",
        "change = change % 500                      #500으로 나눈 나머지 계산하기\n",
        "coin100s = change // 100                   #100으로 나눈 몫(100원 동전의 개수) 계산하기\n",
        "change = change % 100                      #100으로 나눈 나머지 계산하기\n",
        "coin50s = change // 50                     #50으로 나눈 몫(50원 동전의 개수) 계산하기\n",
        "change = change % 50                       #50으로 나눈 나머지 계산하기\n",
        "coin10s = change // 10                     #10으로 나눈 몫(10원 동전의 개수) 계산하기\n",
        "change = change % 10                       #10으로 나눈 나머지 계산하기\n",
        "print(\"500원 동전의 개수: \", coin500s)     #거스름돈 중 500원짜리 동전의 개수 출력\n",
        "print(\"100원 동전의 개수: \", coin100s)     #거스름돈 중 100원짜리 동전의 개수 출력\n",
        "print(\"50원 동전의 개수: \", coin50s)       #거스름돈 중 50원짜리 동전의 개수 출력\n",
        "print(\"10원 동전의 개수: \", coin10s)       #거스름돈 중 10원짜리 동전의 개수 출력"
      ],
      "execution_count": null,
      "outputs": [
        {
          "output_type": "stream",
          "name": "stdout",
          "text": [
            "투입한 돈: 5000\n",
            "물건 값: 2260\n",
            "거스름돈:  2740\n",
            "500원 동전의 개수:  5\n",
            "100원 동전의 개수:  2\n",
            "50원 동전의 개수:  0\n",
            "10원 동전의 개수:  4\n"
          ]
        }
      ]
    },
    {
      "cell_type": "code",
      "metadata": {
        "id": "WmFiG7iYX808",
        "colab": {
          "base_uri": "https://localhost:8080/"
        },
        "outputId": "09237c1a-b149-4037-cdd2-49c932998051"
      },
      "source": [
        "money = int(input(\"투입한 돈: \"))          #변수 money를 선언하고 정수형으로 받는다\n",
        "price = int(input(\"물건값: \"))             #변수 price를 선언하고 정수형으로 받는다\n",
        "change = money - price                     #거스름돈 계산하기\n",
        "coin500s = change // 500                   #500으로 나눈 몫(500원 동전의 개수) 계산하기\n",
        "change = change % 500                      #500으로 나눈 나머지 계산하기\n",
        "coin100s = change // 100                   #100으로 나눈 몫(100원 동전의 개수) 계산하기\n",
        "print(\"500원 동전의 개수: \", coin500s)     #거스름돈 중 500원짜리 동전의 개수 출력\n",
        "print(\"100원 동전의 개수: \", coin100s)     #거스름돈 중 100원짜리 동전의 개수 출력"
      ],
      "execution_count": null,
      "outputs": [
        {
          "output_type": "stream",
          "name": "stdout",
          "text": [
            "투입한 돈: 2000\n",
            "물건값: 1200\n",
            "500원 동전의 개수:  1\n",
            "100원 동전의 개수:  3\n"
          ]
        }
      ]
    },
    {
      "cell_type": "markdown",
      "metadata": {
        "id": "MHFC03Dp6hcM"
      },
      "source": [
        "제 3장 연습문제"
      ]
    },
    {
      "cell_type": "code",
      "metadata": {
        "colab": {
          "base_uri": "https://localhost:8080/"
        },
        "id": "0bUeMO1w6lXC",
        "outputId": "0383c04e-69ef-46ad-9a23-eddba329fc39"
      },
      "source": [
        "x = int(input(\"x: \"))                    #변수 x를 선언하고 정수형으로 받는다\n",
        "y = int(input(\"y: \"))                    #변수 y를 선언하고 정수형으로 받는다\n",
        "print(\"두 수의 합: \", x + y)             #두 수의 합을 출력\n",
        "print(\"두 수의 차: \", x - y)             #두 수의 차를 출력\n",
        "print(\"두 수의 곱: \", x * y)             #두 수의 곱을 출력\n",
        "print(\"두 수의 평균: \", (x + y) / 2)     #두 수의 평균을 출력\n",
        "print(\"큰 수: \", max(x, y))              #둘 중 큰 수를 출력\n",
        "print(\"작은 수: \", min(x, y))            #둘 중 작은 수를 출력"
      ],
      "execution_count": null,
      "outputs": [
        {
          "output_type": "stream",
          "name": "stdout",
          "text": [
            "x: 100\n",
            "y: 80\n",
            "두 수의 합:  180\n",
            "두 수의 차:  20\n",
            "두 수의 곱:  8000\n",
            "두 수의 평균:  90.0\n",
            "큰 수:  100\n",
            "작은 수:  80\n"
          ]
        }
      ]
    },
    {
      "cell_type": "code",
      "metadata": {
        "colab": {
          "base_uri": "https://localhost:8080/"
        },
        "id": "5dA7umtnKxqW",
        "outputId": "51d0e77c-da9f-43cd-947c-760c5298eca1"
      },
      "source": [
        "r = float(input(\"r: \"))           #변수 r을 선언\n",
        "h = float(input(\"h: \"))           #변수 h를 선언\n",
        "vol = 3.141592 * r ** 2 * h       #원기둥의 부피 계산하기\n",
        "print(\"원기둥의 부피: \", vol)     #원기둥의 부피 출력 "
      ],
      "execution_count": null,
      "outputs": [
        {
          "output_type": "stream",
          "name": "stdout",
          "text": [
            "r: 4\n",
            "h: 10\n",
            "원기둥의 부피:  502.65472\n"
          ]
        }
      ]
    },
    {
      "cell_type": "code",
      "metadata": {
        "id": "9VNLHM2iNm9Q",
        "colab": {
          "base_uri": "https://localhost:8080/"
        },
        "outputId": "9960c044-710b-4831-cd6c-99bee7710496"
      },
      "source": [
        "number = int(input(\"정수를 입력하시오: \"))      #변수 number를 선언하고 정수형으로 받는다\n",
        "sum = 0                \n",
        "sum = sum + number % 10                         #수를 10으로 나눈 나머지(일의 자리 숫자) 더하기\n",
        "number = number // 10                           #수를 10으로 나눈 몫(정수만 남도록) 계산하기(일의 자리 숫자 제외하기)\n",
        "sum = sum + number % 10                         #수를 10으로 나눈 나머지(십의 자리 숫자) 더하기\n",
        "number = number // 10                           #수를 10으로 나눈 몫(정수만 남도록) 계산하기(십의 자리 숫자 제외하기)\n",
        "sum = sum + number % 10                         #수를 10으로 나눈 나머지(백의 자리 숫자) 더하기\n",
        "number = number // 10                           #수를 10으로 나눈 몫(정수만 남도록) 계산하기(백의 자리 숫자 제외하기)\n",
        "sum = sum + number % 10                         #수를 10으로 나눈 나머지(천의 자리 숫자) 더하기\n",
        "number = number // 10                           #수를 10으로 나눈 몫(정수만 남도록) 계산하기(천의 자리 숫자 제외하기)\n",
        "print(\"자리 수의 합: \", str(sum))               #자리 수의 합을 문자열로 출력"
      ],
      "execution_count": 1,
      "outputs": [
        {
          "output_type": "stream",
          "name": "stdout",
          "text": [
            "정수를 입력하시오: 2653\n",
            "자리 수의 합:  16\n"
          ]
        }
      ]
    },
    {
      "cell_type": "code",
      "metadata": {
        "colab": {
          "base_uri": "https://localhost:8080/"
        },
        "id": "DbCPY_fBbhiv",
        "outputId": "9b5a7f36-f153-4873-a349-70474956d623"
      },
      "source": [
        "x1 = int(input(\"x1: \"))                         #변수 x1을 선언하고 정수형으로 받는다\n",
        "y1 = int(input(\"y1: \"))                         #변수 y1을 선언하고 정수형으로 받는다\n",
        "x2 = int(input(\"x2: \"))                         #변수 x2를 선언하고 정수형으로 받는다\n",
        "y2 = int(input(\"y2: \"))                         #변수 y2를 선언하고 정수형으로 받는다\n",
        "dist = ((x2 - x1)**2 + (y2 - y1)**2)**0.5       #두 점 사이의 거리 계산하기\n",
        "print(\"두 점 사이의 거리=\", dist)               #두 점 사이의 거리 출력"
      ],
      "execution_count": 3,
      "outputs": [
        {
          "output_type": "stream",
          "name": "stdout",
          "text": [
            "x1: 0\n",
            "y1: 0\n",
            "x2: 100\n",
            "y2: 100\n",
            "두 점 사이의 거리= 141.4213562373095\n"
          ]
        }
      ]
    },
    {
      "cell_type": "code",
      "metadata": {
        "id": "0lNqv1jauVIC"
      },
      "source": [
        "import math\n",
        "x1 = int(input(\"x1: \"))                         #변수 x1을 선언하고 정수형으로 받는다\n",
        "y1 = int(input(\"y1: \"))                         #변수 y1을 선언하고 정수형으로 받는다\n",
        "x2 = int(input(\"x2: \"))                         #변수 x2를 선언하고 정수형으로 받는다\n",
        "y2 = int(input(\"y2: \"))                         #변수 y2를 선언하고 정수형으로 받는다\n",
        "dist = math.sqrt((x2 - x1)**2 + (y2 -y1)**2)    #두 점 사이의 거리 계산하기\n",
        "print(\"두 점 사이의 거리=\", dist)               #두 점 사이의 거리 출력\n",
        "\n",
        "import turtle                                   #turtle 모듈 불러오기\n",
        "t = turtle.Turtle()                             #turtle을 t로 선언\n",
        "t.shape(\"turtle\")                               #turtle 모듈의 아이콘을 거북이 모양으로 선언\n",
        "t.left(45)                                      #왼쪽으로 45도 회전\n",
        "t.forward(141)                                  #앞으로 141픽셀 이동\n",
        "t.setheading(0)                                 #거북이의 머리 방향을 0도로 설정\n",
        "t.goto(0, 0)                                    #좌표 (0, 0)으로 이동\n",
        "t.forward(100)                                  #앞으로 100픽셀 이동\n",
        "t.left(90)                                      #왼쪽으로 90도 회전\n",
        "t.forward(100)                                  #앞으로 100픽셀 이동"
      ],
      "execution_count": null,
      "outputs": []
    },
    {
      "cell_type": "code",
      "metadata": {
        "id": "ndE6iwf10EBx"
      },
      "source": [
        "import turtle                                   #turtle 모듈 불러오기\n",
        "t = turtle.Turtle()                             #turtle을 t로 선언\n",
        "t.shape(\"turtle\")                               #turtle 모듈의 아이콘을 거북이 모양으로 선언\n",
        "\n",
        "x1 = int(input(\"x1: \"))                         #변수 x1을 선언하고 정수형으로 받는다\n",
        "y1 = int(input(\"y1: \"))                         #변수 y1을 선언하고 정수형으로 받는다 \n",
        "x2 = int(input(\"x2: \"))                         #변수 x2를 선언하고 정수형으로 받는다\n",
        "y2 = int(input(\"y2: \"))                         #변수 y2를 선언하고 정수형으로 받는다\n",
        "dist = ((x1 - x2)**2 + (y1 -y2)**2)**0.5        #두 점을 연결하는 직선의 길이 계산하기\n",
        "\n",
        "t.up()                                          #펜 들기\n",
        "t.goto(x1, y1)                                  #좌표 (x1, y1)으로 이동\n",
        "t.down()                                        #펜 내려놓기\n",
        "t.goto(x2, y2)                                  #좌표 (x2, y2)으로 이동\n",
        "t.write(\"점의 길이=\" + str(dist))               #연결한 직선의 길이 출력"
      ],
      "execution_count": null,
      "outputs": []
    },
    {
      "cell_type": "code",
      "metadata": {
        "colab": {
          "base_uri": "https://localhost:8080/"
        },
        "id": "oFogaDPS45oT",
        "outputId": "e6201e13-1422-4b56-f3ee-d3527efa9bc9"
      },
      "source": [
        "import time\n",
        "fseconds = time.time()   \n",
        "total_sec = int(fseconds)                                                           #전체 초를 정수형 받기\n",
        "total_min = total_sec // 60                                                         #전체 초를 60으로 나눈 몫(전체 분) 계산하기\n",
        "minute = total_min % 60                                                             #전체 분을 60으로 나눈 나머지(분) 계산하기\n",
        "total_hour = total_min // 60                                                        #전체 분을 60으로 나눈 몫(전체 시각) 계산하기\n",
        "hour = total_hour % 24                                                              #전체 시각을 24로 나눈 나머지(시각) 계산하기\n",
        "print(\"현재 시간(영국 그리니치 시각): \" + str(hour) + \"시\" + str(minute) + \"분\")    #현재 시간 출력"
      ],
      "execution_count": 4,
      "outputs": [
        {
          "output_type": "stream",
          "name": "stdout",
          "text": [
            "현재 시간(영국 그리니치 시각): 12시59분\n"
          ]
        }
      ]
    },
    {
      "cell_type": "code",
      "metadata": {
        "colab": {
          "base_uri": "https://localhost:8080/"
        },
        "id": "7pfQ1-EB-_9J",
        "outputId": "45d28249-6828-414a-e9dd-b5a33a7cef81"
      },
      "source": [
        "mass = float(input(\"물체의 무게를 입력하시오(킬로그램): \"))           #변수 mass를 선언\n",
        "velocity = float(input(\"물체의 속도를 입력하시오(미터/초): \"))        #변수 velocity를 선언\n",
        "energy = 0.5 * mass * velocity ** 2                                   #물체의 운동에너지 계산하기\n",
        "print(\"물체는 \" + str(energy) + \" (줄)의 에너지를 가지고 있다.\")      #물체의 운동에너지 출력"
      ],
      "execution_count": 5,
      "outputs": [
        {
          "output_type": "stream",
          "name": "stdout",
          "text": [
            "물체의 무게를 입력하시오(킬로그램): 10\n",
            "물체의 속도를 입력하시오(미터/초): 100\n",
            "물체는 50000.0 (줄)의 에너지를 가지고 있다.\n"
          ]
        }
      ]
    }
  ]
}