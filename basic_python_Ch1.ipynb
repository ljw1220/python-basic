{
  "nbformat": 4,
  "nbformat_minor": 0,
  "metadata": {
    "colab": {
      "name": "basic python_Ch1",
      "provenance": [],
      "authorship_tag": "ABX9TyPHzKnGJ5UWJ2fUyIDZiJvG",
      "include_colab_link": true
    },
    "kernelspec": {
      "name": "python3",
      "display_name": "Python 3"
    },
    "language_info": {
      "name": "python"
    }
  },
  "cells": [
    {
      "cell_type": "markdown",
      "metadata": {
        "id": "view-in-github",
        "colab_type": "text"
      },
      "source": [
        "<a href=\"https://colab.research.google.com/github/ljw1220/python-basic/blob/main/basic_python_Ch1.ipynb\" target=\"_parent\"><img src=\"https://colab.research.google.com/assets/colab-badge.svg\" alt=\"Open In Colab\"/></a>"
      ]
    },
    {
      "cell_type": "markdown",
      "metadata": {
        "id": "JO3u6JGw8y30"
      },
      "source": [
        "제 1장 도전문제"
      ]
    },
    {
      "cell_type": "code",
      "metadata": {
        "colab": {
          "base_uri": "https://localhost:8080/"
        },
        "id": "1K2T-RgM9G0f",
        "outputId": "7167c678-495d-4300-8908-1714532343e5"
      },
      "source": [
        "print(\"안녕하세요?\")\n",
        "print(\"programming에 입문하신 것을 축하드립니다.\")"
      ],
      "execution_count": 1,
      "outputs": [
        {
          "output_type": "stream",
          "name": "stdout",
          "text": [
            "안녕하세요?\n",
            "programming에 입문하신 것을 축하드립니다.\n"
          ]
        }
      ]
    },
    {
      "cell_type": "code",
      "metadata": {
        "colab": {
          "base_uri": "https://localhost:8080/"
        },
        "id": "lzZobuy3-vni",
        "outputId": "b53acecf-7416-4c3c-d689-8476ce9de30f"
      },
      "source": [
        "print(3.141592*10.0*10.0)\n",
        "print((1/100)*1234)"
      ],
      "execution_count": 2,
      "outputs": [
        {
          "output_type": "stream",
          "name": "stdout",
          "text": [
            "314.1592\n",
            "12.34\n"
          ]
        }
      ]
    },
    {
      "cell_type": "code",
      "metadata": {
        "id": "enyE9mpzTh_1"
      },
      "source": [
        "import turtle           #turtle 모듈 불러오기\n",
        "t = tutle.Turtle()      #turtle을 t로 선언\n",
        "t.shape(\"turtle\")       #turtle 모듈의 아이콘을 거북이 모양으로 선언\n",
        "t.forward(100)          #앞으로 100픽셀 이동\n",
        "t.left(120)             #왼쪽으로 120도 회전\n",
        "t.forward(100)          #앞으로 100픽셀 이동\n",
        "t.left(120)             #왼쪽으로 120도 회전\n",
        "t.forward(100)          #앞으로 100픽셀 이동"
      ],
      "execution_count": null,
      "outputs": []
    },
    {
      "cell_type": "code",
      "metadata": {
        "id": "3ElXEORzeSer"
      },
      "source": [
        "import turtle           #turtle 모듈 불러오기\n",
        "t = turtle.Turtle()     #turtle을 t로 선언\n",
        "t.shape(\"turtle\")       #turtle 모듈의 아이콘을 거북이 모양으로 선언\n",
        "t.forward(100)          #앞으로 100픽셀 이동\n",
        "t.left(90)              #왼쪽으로 90도 회전\n",
        "t.forward(100)          #앞으로 100픽셀 이동\n",
        "t.left(90)              #왼쪽으로 90도 회전\n",
        "t.forward(100)          #앞으로 100픽셀 이동\n",
        "t.left(90)              #왼쪽으로 90도 회전\n",
        "t.forward(100)          #앞으로 100픽셀 이동\n",
        "t.left(90)              #왼쪽으로 90도 회전"
      ],
      "execution_count": null,
      "outputs": []
    },
    {
      "cell_type": "code",
      "metadata": {
        "id": "3MMSYcXceTjY"
      },
      "source": [
        "import turtle           #turtle 모듈 불러오기\n",
        "t = turtle.Turtle()     #turtle을 t로 선언\n",
        "t.shape(\"turtle\")       #turtle 모듈의 아이콘을 거북이 모양으로 선언\n",
        "t.forward(100)          #앞으로 100픽셀 이동\n",
        "t.left(60)              #왼쪽으로 60도 회전\n",
        "t.forward(100)          #앞으로 100픽셀 이동\n",
        "t.left(60)              #왼쪽으로 60도 회전\n",
        "t.forward(100)          #앞으로 100픽셀 이동\n",
        "t.left(60)              #왼쪽으로 60도 회전\n",
        "t.forward(100)          #앞으로 100픽셀 이동\n",
        "t.left(60)              #왼쪽으로 60도 회전\n",
        "t.forward(100)          #앞으로 100픽셀 이동\n",
        "t.left(60)              #왼쪽으로 60도 회전\n",
        "t.forward(100)          #앞으로 100픽셀 이동\n",
        "t.left(60)              #왼쪽으로 60도 회전"
      ],
      "execution_count": null,
      "outputs": []
    },
    {
      "cell_type": "markdown",
      "metadata": {
        "id": "XisQq-COhiqx"
      },
      "source": [
        "제 1장 연습문제"
      ]
    },
    {
      "cell_type": "code",
      "metadata": {
        "colab": {
          "base_uri": "https://localhost:8080/"
        },
        "id": "z4M1Recehnaf",
        "outputId": "23ed18eb-3772-4748-b79a-106bc19d20cd"
      },
      "source": [
        "print(\"환영합니다.\")\n",
        "print(\"파이썬의 세계에 오신 것을 환영합니다.\")\n",
        "print(\"파이썬은 강력합니다.\")"
      ],
      "execution_count": 7,
      "outputs": [
        {
          "output_type": "stream",
          "name": "stdout",
          "text": [
            "환영합니다.\n",
            "파이썬의 세계에 오신 것을 환영합니다.\n",
            "파이썬은 강력합니다.\n"
          ]
        }
      ]
    },
    {
      "cell_type": "code",
      "metadata": {
        "colab": {
          "base_uri": "https://localhost:8080/"
        },
        "id": "94wX33kcidNe",
        "outputId": "716330c0-82e3-4f50-87b6-96f8d4b4f8cd"
      },
      "source": [
        "print(\"반갑습니다. 파이썬!\")\n",
        "print(2*3/10)\n",
        "print(\"Hello\", \"World\", \"!!!\")"
      ],
      "execution_count": 8,
      "outputs": [
        {
          "output_type": "stream",
          "name": "stdout",
          "text": [
            "반갑습니다. 파이썬!\n",
            "0.6\n",
            "Hello World !!!\n"
          ]
        }
      ]
    },
    {
      "cell_type": "code",
      "metadata": {
        "colab": {
          "base_uri": "https://localhost:8080/"
        },
        "id": "ou3q1jvojCgz",
        "outputId": "df6806cb-6122-4c6a-c897-d30485cf5574"
      },
      "source": [
        "print(7*24)             #일주일은 7일, 1일은 24시간"
      ],
      "execution_count": 9,
      "outputs": [
        {
          "output_type": "stream",
          "name": "stdout",
          "text": [
            "168\n"
          ]
        }
      ]
    },
    {
      "cell_type": "code",
      "metadata": {
        "id": "8o8r7OlhjOjq"
      },
      "source": [
        "import turtle           #turtle 모듈 불러오기\n",
        "t = turtle.Turtle()     #turtle을 t로 선언\n",
        "t.shape(\"turtle\")       #turtle 모듈의 아이콘을 거북이 모양으로 선언\n",
        "t.forward(100)          #앞으로 100픽셀 이동\n",
        "t.left(90)              #왼쪽으로 90도 회전\n",
        "t.forward(100)          #앞으로 100픽셀 이동\n",
        "t.right(90)             #오른쪽으로 90도 회전\n",
        "t.forward(100)          #앞으로 100픽셀 이동\n",
        "t.right(90)             #오른쪽으로 90도 회전\n",
        "t.forward(100)          #앞으로 100픽셀 이동\n",
        "t.left(90)              #왼쪽으로 90도 회전\n",
        "t.forward(100)          #앞으로 100픽셀 이동"
      ],
      "execution_count": null,
      "outputs": []
    },
    {
      "cell_type": "code",
      "metadata": {
        "id": "mzXpUtO3l-dO"
      },
      "source": [
        "import turtle           #turtle 모듈 불러오기\n",
        "t = turtle.Turtle()     #turtle을 t로 선언\n",
        "t.shape(\"turtle\")       #turtle 모듈의 아이콘을 거북이 모양으로 선언\n",
        "t.width(10)             #선의 두께를 10으로 선언\n",
        "t.forward(100)          #앞으로 100픽셀 이동\n",
        "t.left(90)              #왼쪽으로 90도 회전\n",
        "t. forward(100)         #앞으로 100픽셀 이동"
      ],
      "execution_count": null,
      "outputs": []
    },
    {
      "cell_type": "code",
      "metadata": {
        "id": "oVDmG6qsnTcG"
      },
      "source": [
        "import turtle           #turtle 모듈 불러오기\n",
        "t = turtle.Turtle()     #turtle을 t로 선언\n",
        "t.shape(\"turtle\")       #turtle 모듈의 아이콘을 거북이 모양으로 선언\n",
        "t.color(\"blue\")         #선의 색상을 파란색으로 선언\n",
        "t.forward(100)          #앞으로 100픽셀 이동"
      ],
      "execution_count": null,
      "outputs": []
    },
    {
      "cell_type": "code",
      "metadata": {
        "id": "0UM4bZMfpXjS"
      },
      "source": [
        "import turtle           #turtle 모듈 불러오기\n",
        "t = turtle.Turtle()     #turtle을 t로 선언\n",
        "t.shape(\"square\")       #turtle 모듈의 아이콘을 사각형 모양으로 선언\n",
        "t.forward(100)          #앞으로 100픽셀 이동"
      ],
      "execution_count": null,
      "outputs": []
    },
    {
      "cell_type": "code",
      "metadata": {
        "id": "P4NCJSGiqIIS"
      },
      "source": [
        "import turtle           #turtle 모듈 불러오기\n",
        "t = turtle.Turtle()     #turtle을 t로 선언\n",
        "t.shape(\"turtle\")       #turtle 모듈의 아이콘을 거북이 모양으로 선언\n",
        "t.up()                  #펜 들기\n",
        "t.goto(0, 0)            #좌표 (0, 0)으로 이동\n",
        "t.down()                #펜 내려놓기\n",
        "t.forward(100)          #앞으로 100픽셀 이동\n",
        "t.up()                  #펜 들기\n",
        "t.goto(0, 100)          #좌표(0, 100)으로 이동\n",
        "t.down()                #펜 내려놓기\n",
        "t.forward(100)          #앞으로 100픽셀 이동"
      ],
      "execution_count": null,
      "outputs": []
    },
    {
      "cell_type": "code",
      "metadata": {
        "id": "gvkwyB1yuPmf"
      },
      "source": [
        "import turtle           #turtle 모듈 불러오기\n",
        "t = turtle.Turtle()     #turtle을 t로 선언\n",
        "t.shape(\"turtle\")       #turtle 모듈이 아이콘을 거북이 모양으로 선언\n",
        "t.width(10)             #선의 두께를 10으로 선언\n",
        "t.up()                  #펜 들기\n",
        "t.goto(-200, 0)         #좌표 (-200, 0)으로 이동\n",
        "t.down()                #펜 내려놓기\n",
        "t.color(\"blue\")         #선의 색상을 파란색으로 선언\n",
        "t.circle(90)            #반지름 90인 원 그리기\n",
        "t.up()                  #펜 들기\n",
        "t.goto(0, 0)            #좌표 (0, 0)으로 이동\n",
        "t.down()                #펜 내려놓기\n",
        "t.color(\"black\")        #선의 색상을 검은색으로 선언\n",
        "t.circle(90)            #반지름 90인 원 그리기\n",
        "t.up()                  #펜 들기\n",
        "t.goto(200, 0)          #좌표 (200, 0)으로 이동\n",
        "t.down()                #펜 내려놓기\n",
        "t.color(\"red\")          #선의 색상을 빨간색으로 선언\n",
        "t.circle(90)            #반지름 90인 원 그리기\n",
        "t.up()                  #펜 들기\n",
        "t.goto(-100, -100)      #좌표(-100, -100)으로 이동\n",
        "t.down()                #펜 내려놓기\n",
        "t.color(\"yellow\")       #선의 색상을 노란색으로 선언\n",
        "t.circle(90)            #반지름 90인 원 그리기\n",
        "t.up()                  #펜 들기\n",
        "t.goto(100, -100)       #좌표(100, -100)으로 이동\n",
        "t.down()                #펜 내려놓기\n",
        "t.color(\"green\")        #선의 색상을 초록색으로 선언\n",
        "t.circle(90)            #반지름 90인 원 그리기"
      ],
      "execution_count": null,
      "outputs": []
    }
  ]
}