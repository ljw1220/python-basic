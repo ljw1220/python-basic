{
  "nbformat": 4,
  "nbformat_minor": 0,
  "metadata": {
    "colab": {
      "name": "basic python_Ch5",
      "provenance": [],
      "authorship_tag": "ABX9TyMDvpSNg7kqrx3HpObiPZiu",
      "include_colab_link": true
    },
    "kernelspec": {
      "name": "python3",
      "display_name": "Python 3"
    },
    "language_info": {
      "name": "python"
    }
  },
  "cells": [
    {
      "cell_type": "markdown",
      "metadata": {
        "id": "view-in-github",
        "colab_type": "text"
      },
      "source": [
        "<a href=\"https://colab.research.google.com/github/ljw1220/python-basic/blob/main/basic_python_Ch5.ipynb\" target=\"_parent\"><img src=\"https://colab.research.google.com/assets/colab-badge.svg\" alt=\"Open In Colab\"/></a>"
      ]
    },
    {
      "cell_type": "markdown",
      "metadata": {
        "id": "dXSE7vEgUwAL"
      },
      "source": [
        "제 5장 도전문제"
      ]
    },
    {
      "cell_type": "code",
      "metadata": {
        "colab": {
          "base_uri": "https://localhost:8080/"
        },
        "id": "5GT-iRVcUya5",
        "outputId": "28da66f2-3f95-4ef6-beab-4b41acab4ca2"
      },
      "source": [
        "age = int(input(\"나이를 입력하시오: \"))                                  #변수 age를 선언하고 정수형으로 받는다\n",
        "if age >= 15:                                                            #나이가 15보다 많은 경우\n",
        "  print(\"이 영화를 보실 수 있습니다. 영화의 가격은 10000원입니다.\")               \n",
        "else:                                                                    #나머지의 경우(15살 이하)\n",
        "  print(\"이 영화를 보실 수 없습니다. 다른 영화를 보시겠어요?\")"
      ],
      "execution_count": null,
      "outputs": [
        {
          "output_type": "stream",
          "name": "stdout",
          "text": [
            "나이를 입력하시오: 20\n",
            "이 영화를 보실 수 있습니다. 영화의 가격은 10000원입니다.\n"
          ]
        }
      ]
    },
    {
      "cell_type": "code",
      "metadata": {
        "id": "pdcugekKYnly"
      },
      "source": [
        "import turtle                                                            #turtle 모듈 불러오기\n",
        "t = turtle.Turtle()                                                      #turtle을 t로 선언\n",
        "t.width(3)                                                               #선의 두께를 3으로 설정\n",
        "t.shape(\"turtle\")                                                        #turtle 모듈의 아이콘을 거북이 모양으로 선언\n",
        "t.shapesize(3, 3)                                                        #거북이의 크기를 3배 확대\n",
        "\n",
        "while True:                                                              #무한 루프\n",
        "    command = input(\"명령을 입력하시오: \")                               #변수 command를 선언\n",
        "    if command == \"l\" or command == \"left\":                              #l 또는 left 입력할 경우\n",
        "        t.left(90)                                                       #왼쪽으로 90도 회전\n",
        "        t.forward(100)                                                   #앞으로 100픽셀 이동\n",
        "    if command == \"r\" or command == \"right\":                             #r 또는 right 입력할 경우\n",
        "        t.right(90)                                                      #오른쪽으로 90도 회전\n",
        "        t.forward(100)                                                   #앞으로 100픽셀 이동"
      ],
      "execution_count": null,
      "outputs": []
    },
    {
      "cell_type": "code",
      "metadata": {
        "id": "dnGl8iHUgxYJ"
      },
      "source": [
        "import turtle                                                            #turtle 모듈 불러오기\n",
        "t = turtle.Turtle()                                                      #turtle을 t로 선언\n",
        "t.width(3)                                                               #선의 두께를 3으로 설정\n",
        "t.shape(\"turtle\")                                                        #turtle 모듈의 아이콘을 거북이 모양으로 선언\n",
        "t.shapesize(3, 3)                                                        #거북이의 크기를 3배 확대\n",
        "\n",
        "flag = True\n",
        "\n",
        "while flag:                                                              #루프 제어변수 flag를 둔다\n",
        "    command = input(\"명령을 입력하시오: \")                               #변수 command를 선언\n",
        "    if command == \"l\" or command == \"left\":                              #l 또는 left를 입력할 경우\n",
        "        t.left(90)                                                       #왼쪽으로 90도 회전\n",
        "        t.forward(100)                                                   #앞으로 100픽셀 이동\n",
        "    if command == \"r\" or command == \"right\":                             #r 또는 right를 입력할 경우\n",
        "        t.right(90)                                                      #오른쪽으로 90도 회전\n",
        "        t.forward(100)                                                   #앞으로 100픽셀 이동\n",
        "    if command == \"q\" or command == \"quit\":                              #q 또는 quit를 입력할 경우\n",
        "        flag = False                                                     #끝내기"
      ],
      "execution_count": null,
      "outputs": []
    },
    {
      "cell_type": "code",
      "metadata": {
        "colab": {
          "base_uri": "https://localhost:8080/"
        },
        "id": "adOkgw6yqFQ_",
        "outputId": "42518434-ac96-4f07-c62a-b1d8f5095bcc"
      },
      "source": [
        "import random\n",
        "print(\"주사위 던지기 게임을 시작합니다.\")                                #게임 시작 출력\n",
        "dice = random.randrange(6) + 1                                           #변수 dice 선언, 1에서 6까지의 정수 랜덤 생성\n",
        "print(\"주사위 눈은 \" + str(dice) + \"입니다.\")                            #랜덤 생성된 수를 문자열로 변환하여 출력\n",
        "print(\"게임이 종료되었습니다.\")                                          #게임 종료 출력"
      ],
      "execution_count": null,
      "outputs": [
        {
          "output_type": "stream",
          "name": "stdout",
          "text": [
            "주사위 던지기 게임을 시작합니다.\n",
            "주사위 눈은 3입니다.\n",
            "게임이 종료되었습니다.\n"
          ]
        }
      ]
    },
    {
      "cell_type": "code",
      "metadata": {
        "colab": {
          "base_uri": "https://localhost:8080/"
        },
        "id": "mlUqoGKK2-Pj",
        "outputId": "6e6861f6-8ba6-4f03-c074-adfb6ac8b114"
      },
      "source": [
        "import random\n",
        "time = random.randint(1, 24)                                             #시각 랜덤 생성\n",
        "print(\"좋은 아침입니다. 지금 시각은 \" + str(time) + \"시 입니다.\")        #랜덤 생성된 시각을 문자열로 변환하여 출력\n",
        "                                                                         #종달새가 노래를 할 것인지 판단\n",
        "if time >= 6 and time <9 and True:                                       #6시와 9시 사이인 경우\n",
        "    print(\"종달새가 노래를 한다.\")                                       #종달새가 노래를 한다\n",
        "elif time >= 14 and time <16 and True:                                   #14시와 16시 사이인 경우\n",
        "    print(\"종달새가 노래를 한다.\")                                       #종달새가 노래를 한다\n",
        "else:                                                                    #나머지의 경우\n",
        "    print(\"종달새가 노래를 하지 않는다.\")                                #종달새가 노래를 하지 않는다"
      ],
      "execution_count": null,
      "outputs": [
        {
          "output_type": "stream",
          "name": "stdout",
          "text": [
            "좋은 아침입니다. 지금 시각은 10시 입니다.\n",
            "종달새가 노래를 하지 않는다.\n"
          ]
        }
      ]
    },
    {
      "cell_type": "code",
      "metadata": {
        "colab": {
          "base_uri": "https://localhost:8080/"
        },
        "id": "q2widzR188Hp",
        "outputId": "06c65380-eff2-4a41-8772-17bd5026bdf3"
      },
      "source": [
        "id = \"ilovepython\"\n",
        "pw = \"123456\"\n",
        "s = input(\"아이디를 입력하시오: \")                                       #변수 s를 선언, 아이디 입력\n",
        "if s == id:                                                              #아이디가 맞는 경우\n",
        "    p = input(\"패스워드를 입력하시오: \")                                 #변수 p를 선언, 패스워드 입력\n",
        "    if p == pw:                                                          #비밀번호가 맞는 경우\n",
        "        print(\"환영합니다.\")                                             #환영합니다. 출력\n",
        "    else:                                                                #비밀번호가 틀린 경우\n",
        "        print(\"비밀번호가 잘못되었습니다.\")       \n",
        "\n",
        "else:                                                                    #아이디가 틀린 경우\n",
        "    print(\"아이디를 찾을 수 없습니다.\")"
      ],
      "execution_count": null,
      "outputs": [
        {
          "output_type": "stream",
          "name": "stdout",
          "text": [
            "아이디를 입력하시오: ilovepython\n",
            "패스워드를 입력하시오: 123456\n",
            "환영합니다.\n"
          ]
        }
      ]
    },
    {
      "cell_type": "code",
      "metadata": {
        "id": "iQGOcUDQCYBc",
        "colab": {
          "base_uri": "https://localhost:8080/"
        },
        "outputId": "1386c65c-fd7d-4c22-8644-fc7bcdde8369"
      },
      "source": [
        "import random\n",
        "options = [\"왼쪽 상단\", \"왼쪽 하단\", \"중앙\", \"오른쪽 상단\", \"오른쪽 하단\"]              \n",
        "computer_choice = random.choice(options)                                                                   #리스트 중 랜덤으로 하나 선택\n",
        "user_choice = input(\"어디를 수비하시겠어요?(왼쪽 상단, 왼쪽 하단, 중앙, 오른쪽 상단, 오른쪽 하단)\")\n",
        "if computer_choice == user_choice:                                                                         #랜덤 선택된 것과 같은 경우\n",
        "    print(\"수비에 성공하셨습니다.\")\n",
        "else:                                                                                                      #나머지 경우(랜덤 선택된 것과 다른 경우)\n",
        "    print(\"페널티킥이 성공하였습니다.\")"
      ],
      "execution_count": null,
      "outputs": [
        {
          "output_type": "stream",
          "name": "stdout",
          "text": [
            "어디를 수비하시겠어요?(왼쪽 상단, 왼쪽 하단, 중앙, 오른쪽 상단, 오른쪽 하단)오른쪽 상단\n",
            "페널티킥이 성공하였습니다.\n"
          ]
        }
      ]
    },
    {
      "cell_type": "code",
      "metadata": {
        "id": "XH1diOz_0g0W"
      },
      "source": [
        "import turtle                                                            #turtle 모듈 불러오기\n",
        "t = turtle.Turtle()                                                      #turtle을 t로 선언\n",
        "t.shape(\"turtle\")                                                        #turtle 모듈의 아이콘을 거북이 모양으로 선언\n",
        "\n",
        "s = turtle.textinput(\"\", \"도형을 입력하시오: \")                          #사용자로부터 도형의 종류를 직접 입력받기\n",
        "if s == \"사각형\":                                                        #사각형의 경우\n",
        "    s = turtle.textinput(\"\", \"가로: \")                                   #사용자로부터 가로의 길이를 입력받기\n",
        "    w = int(s)                                                           #입력받은 가로의 길이를 정수형으로 변환\n",
        "    s = turtle.textinput(\"\", \"세로: \")                                   #사용자로부터 세로의 길이를 입력받기\n",
        "    h = int(s)                                                           #입력받은 세로의 길이를 정수형으로 변환\n",
        "    t.forward(w)                                                         #앞으로 가로 길이만큼 이동\n",
        "    t.left(90)                                                           #왼쪽으로 90도 회전\n",
        "    t.forward(h)                                                         #앞으로 세로 길이만큼 이동\n",
        "    t.left(90)                                                           #왼쪽으로 90도 회전\n",
        "    t.forward(w)                                                         #앞으로 가로 길이만큼 이동\n",
        "    t.left(90)                                                           #왼쪽으로 90도 회전\n",
        "    t.forward(h)                                                         #앞으로 세로 길이만큼 이동\n",
        "elif s == \"삼각형\":                                                      #삼각형의 경우\n",
        "    s = turtle.textinput(\"\", \"변: \")                                     #사용자로부터 변의 길이를 입력받기\n",
        "    l = int(s)                                                           #입력받은 변의 길이를 정수형으로 받기\n",
        "    t.forward(l)                                                         #앞으로 변의 길이만큼 이동\n",
        "    t.left(120)                                                          #왼쪽으로 120도 회전\n",
        "    t.forward(l)                                                         #앞으로 변의 길이만큼 이동\n",
        "    t.left(120)                                                          #왼쪽으로 120도 회전\n",
        "    t.forward(l)                                                         #앞으로 변의 길이만큼 이동\n",
        "elif s == \"원\":                                                          #원의 경우\n",
        "    s = turtle.textinput(\"\", \"반지름: \")                                 #사용자로부터 반지름 길이를 입력받기\n",
        "    r = int(s)                                                           #입력받은 반지름을 정수형으로 받기\n",
        "    t.circle(r)                                                          #입력받은 반지름을 가진 원 그리기\n",
        "else:                                                                    #그 밖의 도형의 경우\n",
        "    pass                                                                 #통과"
      ],
      "execution_count": null,
      "outputs": []
    },
    {
      "cell_type": "markdown",
      "metadata": {
        "id": "fJMc-6TyAPvW"
      },
      "source": [
        "제 5장 연습문제"
      ]
    },
    {
      "cell_type": "code",
      "metadata": {
        "colab": {
          "base_uri": "https://localhost:8080/"
        },
        "id": "IyEq_SaqASQN",
        "outputId": "ecb8b242-54e1-4eea-f3ee-97b94afc2bd5"
      },
      "source": [
        "age = 20\n",
        "if age < 20:                       #20보다 작은 경우\n",
        "    print('20살 미만')\n",
        "else:                              #나머지 경우\n",
        "    print('20살 이상')"
      ],
      "execution_count": null,
      "outputs": [
        {
          "output_type": "stream",
          "name": "stdout",
          "text": [
            "20살 이상\n"
          ]
        }
      ]
    },
    {
      "cell_type": "code",
      "metadata": {
        "id": "bNUv5lOTD8Kk"
      },
      "source": [
        "age = 20\n",
        "if age >= 30 and age <= 50:                #30보다 크거나 같고 50보다 작거나 같은 경우\n",
        "    print('30살 이상이고 50살 이하')"
      ],
      "execution_count": null,
      "outputs": []
    },
    {
      "cell_type": "code",
      "metadata": {
        "colab": {
          "base_uri": "https://localhost:8080/"
        },
        "id": "DvZH2-qcFHdE",
        "outputId": "c9d60783-ecef-41df-9ea4-0101456495e5"
      },
      "source": [
        "temp = int(input(\"현재 온도를 입력하시오: \"))          #변수 temp를 선언하고 정수형으로 받는다\n",
        "if temp >= 25:                                         #25도 이상인 경우\n",
        "    print(\"반바지를 입으세요\")\n",
        "else:                                                  #나머지의 경우\n",
        "    print(\"긴바지를 입으세요\")"
      ],
      "execution_count": null,
      "outputs": [
        {
          "output_type": "stream",
          "name": "stdout",
          "text": [
            "현재 온도를 입력하시오: 10\n",
            "긴바지를 입으세요\n"
          ]
        }
      ]
    },
    {
      "cell_type": "code",
      "metadata": {
        "colab": {
          "base_uri": "https://localhost:8080/"
        },
        "id": "fnm9LUsTGGME",
        "outputId": "551dd0cc-ca8e-42cc-e3e2-95389eb03a1e"
      },
      "source": [
        "score = int(input(\"성적을 입력하시오: \"))              #변수 score를 선언하고 정수형으로 받는다\n",
        "if score >= 90:                                        #90점 이상인 경우\n",
        "    print(\"A학점입니다.\")                              #A학점 출력\n",
        "elif score >= 80:                                      #80점 이상인 경우\n",
        "    print(\"B학점입니다.\")                              #B학점 출력\n",
        "elif score >= 70:                                      #70점 이상인 경우\n",
        "    print(\"C학점입니다.\")                              #C학점 출력\n",
        "elif score >= 60:                                      #60점 이상인 경우\n",
        "    print(\"D학점입니다.\")                              #D학점 출력\n",
        "else:                                                  #나머지 경우\n",
        "    print(\"F학점입니다.\")                              #F학점 출력"
      ],
      "execution_count": null,
      "outputs": [
        {
          "output_type": "stream",
          "name": "stdout",
          "text": [
            "성적을 입력하시오: 91\n",
            "A학점입니다.\n"
          ]
        }
      ]
    },
    {
      "cell_type": "code",
      "metadata": {
        "colab": {
          "base_uri": "https://localhost:8080/"
        },
        "id": "6G6IhNI7Hph5",
        "outputId": "3b1e5b72-1a79-4a9b-a194-c2c5a35098d2"
      },
      "source": [
        "import random\n",
        "x = random.randint(1, 100)                             #1에서 100까지 랜덤 선택\n",
        "y = random.randint(1, 100)                             #1에서 100까지 랜덤 선택\n",
        "\n",
        "ans = int(input(str(x) + \"-\" + str(y) + \"=\"))          #변수 ans를 선언하고 정수형으로 받는다, 랜덤 선택된 수를 문자열로 변환\n",
        "if ans == x - y:                                       #계산 결과가 일치하는 경우\n",
        "    print(\"맞았습니다.\")\n",
        "else:                                                  #나머지의 경우\n",
        "    print(\"틀렸습니다.\")"
      ],
      "execution_count": null,
      "outputs": [
        {
          "output_type": "stream",
          "name": "stdout",
          "text": [
            "52-86=-34\n",
            "맞았습니다.\n"
          ]
        }
      ]
    },
    {
      "cell_type": "code",
      "metadata": {
        "colab": {
          "base_uri": "https://localhost:8080/"
        },
        "id": "BUk8_kryJgNr",
        "outputId": "f04b2026-0659-4dd9-a968-a10a2f586986"
      },
      "source": [
        "n = int(input(\"정수를 입력하시오: \"))                  #변수 n을 선언하고 정수형으로 받는다\n",
        "if n%2 == 0 and n%3 == 0:                              #2로 나눈 나머지가 0이고 3으로 나눈 나머지가 0인 경우\n",
        "    print(\"2와 3으로 나누어 떨어집니다.\")                   \n",
        "else:                                                  #나머지의 경우\n",
        "    print(\"2와 3으로 나누어 떨어지지 않습니다.\")"
      ],
      "execution_count": null,
      "outputs": [
        {
          "output_type": "stream",
          "name": "stdout",
          "text": [
            "정수를 입력하시오: 18\n",
            "2와 3으로 나누어 떨어집니다.\n"
          ]
        }
      ]
    },
    {
      "cell_type": "code",
      "metadata": {
        "id": "vfNhmEBILo6k",
        "colab": {
          "base_uri": "https://localhost:8080/"
        },
        "outputId": "c76187df-1828-4ba7-be58-94f328397900"
      },
      "source": [
        "import random\n",
        "solution = random.randint(0, 99)                                       #변수 solution 선언, 0부터 99까지 랜덤 선택\n",
        "user = int(input(\"복권번호를 입력하시오(0에서 99사이): \"))             #변수 user를 선언하고 정수형으로 받는다\n",
        "digit1 = solution // 10                                                #랜덤 선택된 수를 10으로 나눈 몫(첫째 자리 수) 구하기\n",
        "digit2 = solution % 10                                                 #랜덤 선택된 수를 10으로 나눈 나머지(둘째 자리 수) 구하기\n",
        "u_digit1 = user // 10                                                  #입력한 수를 10으로 나눈 몫(첫째 자리 수) 구하기\n",
        "u_digit2 = user % 10                                                   #입력한 수를 10으로 나눈 나머지(둘째 자리 수) 구하기\n",
        "print(\"당첨번호는\", solution, \"입니다.\")                               #당첨번호 출력      \n",
        "if (digit1 == u_digit1 and digit2 == u_digit2):                        #첫째 자리 수가 일치하고 둘째 자리 수가 일치하는 경우\n",
        "    print(\"상금은 100만원입니다.\")                                     #상금 100만원 출력\n",
        "elif (digit1 == u_digit1                                               #두 수의 첫째 자리 수가 일치하는 경우\n",
        "        or digit1 == u_digit2                                          #당첨번호의 첫째 자리 수와 사용자 입력 번호의 둘째 자리 수가 같은 경우\n",
        "        or digit2 == u_digit1                                          #당첨번호의 둘째 자리 수와 사용자 입력 번호의 첫째 자리 수가 같은 경우\n",
        "        or digit2 == u_digit2):                                        #두 수의 둘째 자리 수가 일치하는 경우\n",
        "    print(\"상금은 50만원입니다.\")                                      #상금 50만원 출력\n",
        "else:                                                                  #나머지의 경우\n",
        "    print(\"상금은 없습니다.\")                                          #상금 없음 출력"
      ],
      "execution_count": 1,
      "outputs": [
        {
          "output_type": "stream",
          "name": "stdout",
          "text": [
            "복권번호를 입력하시오(0에서 99사이): 21\n",
            "당첨번호는 93 입니다.\n",
            "상금은 없습니다.\n"
          ]
        }
      ]
    },
    {
      "cell_type": "code",
      "metadata": {
        "id": "5P2smsvzsCwQ"
      },
      "source": [
        "import turtle                                                          #turtle 모듈 불러오기\n",
        "t = turtle.Turtle()                                                    #turtle을 t로 선언\n",
        "t.shape(\"turtle\")                                                      #turtle 모듈의 아이콘을 거북이 모양으로 선언\n",
        "\n",
        "x1 = int(input(\"큰 원의 중심좌표 x1: \"))                               #변수 x1을 선언하고 정수형으로 받는다\n",
        "y1 = int(input(\"큰 원의 중심좌표 y1: \"))                               #변수 y1을 선언하고 정수형으로 받는다\n",
        "r1 = int(input(\"큰 원의 반지름: \"))                                    #변수 r1을 선언하고 정수형으로 받는다\n",
        "x2 = int(input(\"작은 원의 중심좌표 x2: \"))                             #변수 x2를 선언하고 정수형으로 받는다\n",
        "y2 = int(input(\"작은 원의 중심좌표 y2: \"))                             #변수 y2를 선언하고 정수형으로 받는다\n",
        "r2 = int(input(\"작은 원의 반지름: \"))                                  #변수 r2를 선언하고 정수형으로 받는다\n",
        "\n",
        "t.penup()                                                              #펜 들어올리기\n",
        "t.goto(x1, y1)                                                         #좌표 (x1, y1)으로 이동\n",
        "t.pendown()                                                            #펜 내려놓기\n",
        "t.circle(r1)                                                           #반지름이 r1인 원 그리기\n",
        "\n",
        "t.penup()                                                              #펜 들어올리기\n",
        "t.goto(x2, y2)                                                         #좌표 (x2, y2)으로 이동\n",
        "t.pendown()                                                            #펜 내려놓기\n",
        "t.circle(r2)                                                           #반지름이 r2인 원 그리기\n",
        "\n",
        "dist = ((x1 - x2) * (x1 - x2) + (y1 - y2) * (y1 - y2)) ** 0.5          #원의 중심점 사이의 거리 계산하기                            \n",
        "if dist <= r1 - r2:                                                    #중심점 사이의 거리가 반지름의 차보다 작거나 같은 경우\n",
        "    turtle.write(\"두 번째 원이 첫 번째 원의 내부에 있습니다.\")                      \n",
        "elif dist <= r1 + r2:                                                  #중심점 사이의 거리가 반지름의 합보다 작거나 같은 경우\n",
        "    turtle.write(\"두 번째 원이 첫 번째 원과 겹칩니다.\")\n",
        "else:                                                                  #나머지의 경우\n",
        "    turtle.write(\"두 번째 원이 첫 번째 원과 겹치지 않습니다.\")"
      ],
      "execution_count": null,
      "outputs": []
    }
  ]
}