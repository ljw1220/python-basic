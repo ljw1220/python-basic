{
  "nbformat": 4,
  "nbformat_minor": 0,
  "metadata": {
    "colab": {
      "name": "basic python_Ch7",
      "provenance": [],
      "authorship_tag": "ABX9TyNSIstHFRKrShMKFo39Pcvx",
      "include_colab_link": true
    },
    "kernelspec": {
      "name": "python3",
      "display_name": "Python 3"
    },
    "language_info": {
      "name": "python"
    }
  },
  "cells": [
    {
      "cell_type": "markdown",
      "metadata": {
        "id": "view-in-github",
        "colab_type": "text"
      },
      "source": [
        "<a href=\"https://colab.research.google.com/github/ljw1220/python-basic/blob/main/basic_python_Ch7.ipynb\" target=\"_parent\"><img src=\"https://colab.research.google.com/assets/colab-badge.svg\" alt=\"Open In Colab\"/></a>"
      ]
    },
    {
      "cell_type": "markdown",
      "source": [
        "제 7장 도전문제"
      ],
      "metadata": {
        "id": "EZzg_nA2dNkh"
      }
    },
    {
      "cell_type": "code",
      "source": [
        "import turtle                   #turtle 모듈 불러오기\n",
        "t = turtle.Turtle()             #turtle을 t로 선언\n",
        "t.shape(\"turtle\")               #turtle 모듈의 아이콘을 거북이 모양으로 선언\n",
        "\n",
        "def hexagon(length):            #함수 hexagon() 정의하기\n",
        "    for i in range(6):          #6번 반복하도록 범위 설정\n",
        "        t.forward(length)       #함수에 입력한 길이만큼 앞으로 이동\n",
        "        t.left(60)              #왼쪽으로 60도 회전\n",
        "t.up()                          #펜 들기\n",
        "t.goto(-200, 0)                 #좌표 (-200, 0)으로 이동\n",
        "t.down()                        #펜 내려놓기\n",
        "hexagon(100)                    #함수 hexagon() 실행, 한 변의 길이가 100인 육각형 그리기\n",
        "t.up()                          #펜 들기\n",
        "t.goto(0, 0)                    #좌표(0, 0)으로 이동\n",
        "t.down()                        #펜 내려놓기\n",
        "hexagon(100)                    #함수 hexagon() 실행, 한 변의 길이가 100인 육각형 그리기\n",
        "t.up()                          #펜 들기\n",
        "t.goto(200, 0)                  #좌표 (200, 0)으로 이동\n",
        "t.down()                        #펜 내려놓기\n",
        "hexagon(100)                    #함수 hexagon() 실행, 한 변의 길이가 100인 육각형 그리기"
      ],
      "metadata": {
        "id": "ZTkgT8d05RDB"
      },
      "execution_count": null,
      "outputs": []
    },
    {
      "cell_type": "code",
      "source": [
        "import turtle                                              #turtle 모듈 불러오기\n",
        "t = turtle.Turtle()                                        #turtle을 t로 선언\n",
        "t.shape(\"turtle\")                                          #turtle 모듈의 아이콘을 거북이 모양으로 선언\n",
        "\n",
        "def shape(length):                                         #함수 shape() 정의하기\n",
        "    s = turtle.textinput(\"\", \"몇각형을 원하시나요?: \")     #원하는 도형 입력칸 생성하기\n",
        "    n = int(s)                                             #변수 n을 선언하고 정수형으로 받기\n",
        "\n",
        "    for i in range(n):                                     #n번 반복하도록 범위 설정\n",
        "        t.forward(length)                                  #함수에 입력한 길이만큼 앞으로 이동\n",
        "        t.left(360/n)                                      #360도를 n으로 나눈 각만큼 왼쪽으로 회전\n",
        "\n",
        "t.up()                                                     #펜 들기\n",
        "t.goto(-200, 0)                                            #좌표 (-200, 0)으로 이동\n",
        "t.down()                                                   #펜 내려놓기\n",
        "shape(100);                                                #한 변 길이가 100인 도형 그리기\n",
        "\n",
        "t.up()                                                     #펜 들기\n",
        "t.goto(0, 0)                                               #좌표 (0, 0)으로 이동\n",
        "t.down()                                                   #펜 내려놓기\n",
        "shape(100);                                                #한 변 길이가 100인 도형 그리기\n",
        "\n",
        "t.up()                                                     #펜 들기\n",
        "t.goto(200, 0)                                             #좌표 (200, 0)으로 이동\n",
        "t.down()                                                   #펜 내려놓기\n",
        "shape(100);                                                #한 변 길이가 100인 도형 그리기"
      ],
      "metadata": {
        "id": "1rcoD5Caw50k"
      },
      "execution_count": null,
      "outputs": []
    },
    {
      "cell_type": "code",
      "source": [
        "import turtle                                                                                             #turtle 모듈 불러오기\n",
        "t = turtle.Turtle()                                                                                       #turtle을 t로 선언\n",
        "\n",
        "def n_polygon(n, length):                                                                                 #함수 n_polygon() 정의하기\n",
        "    for i in range(n):                                                                                    #n번 반복하도록 범위 설정\n",
        "        t.forward(length)                                                                                 #함수에 입력한 길이만큼 앞으로 이동\n",
        "        t.left(360/n)                                                                                     #360도를 n으로 나눈 각만큼 왼쪽으로 회전\n",
        "\n",
        "def get_color(index):                                                                                     #함수 get_color() 정의하기\n",
        "    list = [\"red\", \"orange\", \"yellow\", \"green\", \"blue\", \"navy\", \"purple\", \"gray\", \"skyblue\", \"pink\"]      #색상 리스트 작성\n",
        "    t.color(list[index])                                                                                  #리스트에 있는 색상으로 펜 색상 설정\n",
        "    t.begin_fill()                                                                                        #속이 채워진 도형 그려짐\n",
        "    n_polygon(6, 100)                                                                                     #정의된 함수 n_polygon 실행, 한 변의 길이가 100인 육각형 그리기\n",
        "    t.end_fill()                                                                                          #채우기 종료\n",
        "\n",
        "for i in range(10):                                                                                       #10번 반복하도록 범위 설정\n",
        "    t.left(20)                                                                                            #왼쪽으로 20도 회전\n",
        "    get_color(i)                                                                                          #정의된 함수 get_color() 실행"
      ],
      "metadata": {
        "id": "k1YTzxvAK6V4"
      },
      "execution_count": null,
      "outputs": []
    },
    {
      "cell_type": "code",
      "source": [
        "import turtle                                       #turtle 모듈 불러오기\n",
        "import random                                       #랜덤 함수 불러오기\n",
        "\n",
        "def tree(length):                                   #함수 tree() 정의하기\n",
        "    angle = (random.randint(-20, 20))               #변수 angle 선언, 랜덤 선택하기\n",
        "    if length > 5:                                  #함수에 입력한 값이 5보다 큰 경우\n",
        "        t.forward(length)                           #입력한 값만큼 앞으로 이동\n",
        "        t.right(20 + angle)                         #랜덤 선택된 각에 20도를 더한 각만큼 오른쪽으로 회전\n",
        "\n",
        "        tree(length-15*(random.random()+0.4))       #(length-15*(random.random()+0.4))를 인수로 tree()를 순환 호출        \n",
        "        t.left(40 + (angle * 2))                    #랜덤 선택된 각도의 2배에 40도를 더한 각만큼 왼쪽으로 회전\n",
        "        tree(length-15*(random.random()+0.4))       #(length-15*(random.random()+0.4))를 인수로 tree()를 순환 호출\n",
        "        t.right(20 + angle)                         #랜덤 선택된 각에 20도를 더한 각만큼 오른쪽으로 회전\n",
        "\n",
        "        t.backward(length)                          #함수에 입력한 값만큼 뒤로 이동\n",
        "\n",
        "t = turtle.Turtle()                                 #turtle을 t로 선언\n",
        "t.left(90)                                          #왼쪽으로 90도 회전\n",
        "\n",
        "t.color(\"green\")                                    #펜의 색상을 green으로 설정\n",
        "t.speed(1)                                          #실행 속도 설정\n",
        "tree(90)                                            #정의된 함수 tree() 실행"
      ],
      "metadata": {
        "id": "l2AbJo6aPm0X"
      },
      "execution_count": null,
      "outputs": []
    },
    {
      "cell_type": "markdown",
      "source": [
        "제 7장 연습문제"
      ],
      "metadata": {
        "id": "PRRhSBjQw2eU"
      }
    },
    {
      "cell_type": "code",
      "source": [
        "import turtle                                   #turtle 모듈 불러오기\n",
        "t = turtle.Turtle()                             #turtle을 t로 선언\n",
        "t.shape(\"turtle\")                               #turtle 모듈의 아이콘을 거북이 모양으로 선언\n",
        "t.color(\"black\", \"white\")                       #거북이의 선 색상, 채우기 색상 각각 설정\n",
        "s = turtle.Screen(); s.bgcolor('skyblue');      #프로그램 화면의 배경색상을 설정\n",
        "\n",
        "def draw_snowman(x, y):                         #함수 draw_snowman 정의하기\n",
        "    t.up()                                      #펜 들기\n",
        "    t.goto(x, y)                                #좌표 (x, y)로 이동\n",
        "    t.down()                                    #펜 내려놓기\n",
        "    t.begin_fill()                              #속이 채워진 도형 그려짐\n",
        "    t.circle(20)                                #반지름이 20인 원 그리기\n",
        "    t.end_fill()                                #채우기 종료\n",
        "    t.goto(x, y-25)                             #좌표 (x, y-25)으로 이동\n",
        "    t.setheading(135)                           #거북이가 바라보는 방향 설정\n",
        "    t.forward(50)                               #앞으로 50픽셀 이동\n",
        "    t.backward(50)                              #뒤로 50픽셀 이동\n",
        "\n",
        "    t.setheading(30)                            #거북이가 바라보는 방향 설정\n",
        "    t.forward(50)                               #앞으로 50픽셀 이동\n",
        "    t.backward(50)                              #뒤로 50픽셀 이동\n",
        "    t.setheading(0)                             #거북이가 바라보는 방향 설정\n",
        "    \n",
        "    t.begin_fill()                              #속이 채워진 도형 그려짐\n",
        "    t.circle(15)                                #반지름이 15인 원 그리기\n",
        "    t.end_fill()                                #채우기 종료\n",
        "    t.goto(x, y-70)                             #좌표 (x, y-70)으로 이동\n",
        "    t.begin_fill()                              #속이 채워진 도형 그려짐\n",
        "    t.circle(30)                                #반지름이 30인 원 그리기\n",
        "    t.end_fill()                                #채우기 종료\n",
        "\n",
        "draw_snowman(0, 0)                              #정의된 함수 draw_snowman 실행, 좌표 (0, 0)에서 눈사람 그려짐\n",
        "draw_snowman(100, 0)                            #정의된 함수 draw_snowman 실행, 좌표 (100, 0)에서 눈사람 그려짐\n",
        "draw_snowman(200, 0)                            #정의된 함수 draw_snowman 실행, 좌표 (200, 0)에서 눈사람 그려짐"
      ],
      "metadata": {
        "id": "5lQVaY8idvs3"
      },
      "execution_count": null,
      "outputs": []
    },
    {
      "cell_type": "code",
      "source": [
        "import turtle               #turtle 모듈 불러오기\n",
        "t = turtle.Turtle()         #turtle을 t로 선언\n",
        "t.shape(\"turtle\")           #turtle 모듈의 아이콘을 거북이 모양으로 선언\n",
        "t.speed(0)\n",
        "\n",
        "def hexagon():              #함수 hexagon() 정의\n",
        "    for i in range (6):     #6번 반복하도록 범위 설정\n",
        "        t.forward(100)      #앞으로 100픽셀 이동\n",
        "        t.left(360/6)       #왼쪽으로 360도를 6으로 나눈 각만큼 회전\n",
        "for i in range (6):         #6번 반복하도록 범위 설정\n",
        "    hexagon()               #정의한 hexagon() 함수\n",
        "    t.forward(100)          #앞으로 100픽셀 이동\n",
        "    t.right(60)             #오른쪽으로 60도 회전"
      ],
      "metadata": {
        "id": "gV6XlqLs12Bs"
      },
      "execution_count": null,
      "outputs": []
    },
    {
      "cell_type": "code",
      "source": [
        "import turtle                       #turtle 모듈 불러오기\n",
        "t = turtle.Turtle()                 #turtle을 t로 선언\n",
        "t.shape(\"turtle\")                   #turtle 모듈의 아이콘을 거북이 모양으로 선언\n",
        "t.speed(9)                          #실행 속도 설정\n",
        "\n",
        "def f(x):                           #함수 f(x) 정의\n",
        "    return x**2 + 1                 #return; 값반환, 함수 실행 중단\n",
        "\n",
        "t.goto(200, 0)                      #좌표 (200, 0)으로 이동\n",
        "t.goto(0, 0)                        #좌표 (0, 0)으로 이동\n",
        "t.goto(0, 200)                      #좌표 (0, 200)으로 이동\n",
        "t.goto(0, 0)                        #좌표 (0, 0)으로 이동\n",
        "\n",
        "for x in range(150):                #150번 반복하도록 범위 설정\n",
        "    t.goto(x, int(0.01*f(x)))       #좌표 (x, int(0.01*f(x)))으로 이동, 0.01*f(x)를 정수형으로 변환, 함숫값이 매우 커지지 않도록 함숫값에 0.01 곱하기"
      ],
      "metadata": {
        "id": "IZ2mjd3OzbIs"
      },
      "execution_count": null,
      "outputs": []
    },
    {
      "cell_type": "code",
      "source": [
        "import turtle                #turtle 모듈 불러오기\n",
        "t = turtle.Turtle()          #turtle을 t로 선언\n",
        "t.shape(\"turtle\")            #turtle 모듈의 아이콘을 거북이 모양으로 선언\n",
        "t.speed(1)                   #실행 속도 설정\n",
        "\n",
        "def draw_line():             #선을 긋는 함수 draw_line() 정의하기\n",
        "    t.forward(100)           #앞으로 100픽셀 이동\n",
        "    t.backward(100)          #뒤로 100픽셀 이동\n",
        "\n",
        "for x in range(12):          #12번 반복하도록 범위 설정\n",
        "    t.right(30)              #오른쪽으로 30도 회전\n",
        "    draw_line()              #정의한 draw_line() 함수 실행"
      ],
      "metadata": {
        "id": "rQGNFxNC5sAH"
      },
      "execution_count": null,
      "outputs": []
    },
    {
      "cell_type": "code",
      "source": [
        "def happyBirthday(person):                       #생일 축하 노래 출력하는 함수 happyBirthday() 정의\n",
        "    print(\"Happy birthday to you!\")              #\"Happy birthday to you!\" 출력\n",
        "    print(\"Happy birthday to you!\")              #\"Happy birthday to you!\" 출력\n",
        "    print(\"Happy birthday, dear \" + person)      #\"Happy birthday, dear 축하 대상\" 출력\n",
        "    print(\"Happy birthday to you!\")              #\"Happy birthday to you!\" 출력\n",
        "\n",
        "happyBirthday(\"이지우\")                          #정의한 함수 happyBirthday() 실행"
      ],
      "metadata": {
        "colab": {
          "base_uri": "https://localhost:8080/"
        },
        "id": "8qwi9S7P76kN",
        "outputId": "cd0c3707-9636-4efd-e2c7-82ffe86c6a57"
      },
      "execution_count": 1,
      "outputs": [
        {
          "output_type": "stream",
          "name": "stdout",
          "text": [
            "Happy birthday to you!\n",
            "Happy birthday to you!\n",
            "Happy birthday, dear 이지우\n",
            "Happy birthday to you!\n"
          ]
        }
      ]
    },
    {
      "cell_type": "code",
      "source": [
        "def sumProblem(x, y):                                           #함수 sumProblem() 정의하기\n",
        "    sum = x + y\n",
        "    sentence = \"정수\" + str(x) + \"+\" + str(y) + \"의 합은?\"      #x와 y를 문자열로 변환\n",
        "    print(sentence)                                             #문제 출력하기\n",
        "\n",
        "def main():                                                     #함수 main() 정의하기\n",
        "    a = int(input(\"첫 번째 정수: \"))                            #변수 a를 선언하고 정수형으로 받는다\n",
        "    b = int(input(\"두 번째 정수: \"))                            #변수 b를 선언하고 정수형으로 받는다\n",
        "    sumProblem(a, b)                                            #정의된 함수 sumProblem() 실행\n",
        "\n",
        "main()                                                          #정의한 함수 main() 실행"
      ],
      "metadata": {
        "colab": {
          "base_uri": "https://localhost:8080/"
        },
        "id": "fGK8_69W-sSq",
        "outputId": "78856965-457f-4c01-dd60-a3817343666c"
      },
      "execution_count": 2,
      "outputs": [
        {
          "output_type": "stream",
          "name": "stdout",
          "text": [
            "첫 번째 정수: 15\n",
            "두 번째 정수: 25\n",
            "정수15+25의 합은?\n"
          ]
        }
      ]
    },
    {
      "cell_type": "code",
      "source": [
        "PI = 3.14159265358979                                             #변수 PI를 전역변수로 한다. 함수의 외부에서 생성하면 전역변수 된다.\n",
        "\n",
        "def circleArea(radius):                                           #함수 circleArea() 정의하기\n",
        "    return PI * radius * radius                                   #원의 면적 구하는 식 사용\n",
        "\n",
        "def circleCircumference(radius):                                  #함수 circleCircumference() 정의하기\n",
        "    return 2 * PI * radius                                        #원의 둘레 구하는 식 사용\n",
        "\n",
        "def main():                                                       #함수 main() 정의하기\n",
        "    print(\"반지름이 5인 원의 면적: \", circleArea(5))              #정의된 함수 circleArea() 실행, 반지름이 5인 원의 면적 구하여 출력\n",
        "    print(\"반지름이 5인 원의 둘레: \", circleCircumference(5))     #정의된 함수 circleCircumference() 실행, 반지름이 5인 원의 둘레 구하여 출력\n",
        "\n",
        "main()                                                            #정의된 함수 main() 실행"
      ],
      "metadata": {
        "colab": {
          "base_uri": "https://localhost:8080/"
        },
        "id": "4IVB9vcqCaf0",
        "outputId": "f991156c-95cd-4262-c628-ac7f5e1acd9a"
      },
      "execution_count": 3,
      "outputs": [
        {
          "output_type": "stream",
          "name": "stdout",
          "text": [
            "반지름이 5인 원의 면적:  78.53981633974475\n",
            "반지름이 5인 원의 둘레:  31.4159265358979\n"
          ]
        }
      ]
    },
    {
      "cell_type": "code",
      "source": [
        "def add(a, b):                                 #함수 add() 정의하기\n",
        "    print(\"(%d + %d)\" % (a, b), end=\" \")       #%d:정수로 서식 지정\n",
        "    return a + b                               #return:함수 실행했던 위치로 반환\n",
        "\n",
        "def subtract(a, b):                            #함수 subtract() 정의하기\n",
        "    print(\"(%d - %d)\" % (a, b), end=\" \")       #%d:정수로 서식 지정\n",
        "    return a - b                               #return:함수 실행했던 위치로 반환\n",
        "\n",
        "def multiply(a, b):                            #함수 multiply() 정의하기\n",
        "    print(\"(%d * %d)\" % (a, b), end=\" \")       #%d:정수로 서식 지정\n",
        "    return a * b                               #return:함수 실행했던 위치로 반환\n",
        "\n",
        "def divide(a, b):                              #함수 divide() 정의하기\n",
        "    print(\"(%d / %d)\" % (a, b), end=\" \")       #%d:정수로 서식 지정\n",
        "    return a / b                               #return:함수 실행했던 위치로 반환\n",
        "\n",
        "what = add(20, 10)                             #정의된 함수 add() 실행\n",
        "print(\"= \", what)                              #계산값 출력\n",
        "\n",
        "what = subtract(20, 10)                        #정의된 함수 subtract() 실행\n",
        "print(\"= \", what)                              #계산값 출력\n",
        "\n",
        "what = multiply(20, 10)                        #정의된 함수 multiply() 실행\n",
        "print(\"= \", what)                              #계산값 출력\n",
        "\n",
        "what = divide(20, 10)                          #정의된 함수 divide() 실행\n",
        "print(\"= \", what)                              #계산값 출력"
      ],
      "metadata": {
        "colab": {
          "base_uri": "https://localhost:8080/"
        },
        "id": "I_yzizdCED42",
        "outputId": "666048c6-f39b-476d-dd84-ef2b9c1f60f0"
      },
      "execution_count": 4,
      "outputs": [
        {
          "output_type": "stream",
          "name": "stdout",
          "text": [
            "(20 + 10) =  30\n",
            "(20 - 10) =  10\n",
            "(20 * 10) =  200\n",
            "(20 / 10) =  2.0\n"
          ]
        }
      ]
    }
  ]
}