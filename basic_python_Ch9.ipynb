{
  "nbformat": 4,
  "nbformat_minor": 0,
  "metadata": {
    "colab": {
      "name": "basic python_Ch9",
      "provenance": [],
      "authorship_tag": "ABX9TyPqiOtPl3lsL1kFHE35gdqk",
      "include_colab_link": true
    },
    "kernelspec": {
      "name": "python3",
      "display_name": "Python 3"
    },
    "language_info": {
      "name": "python"
    }
  },
  "cells": [
    {
      "cell_type": "markdown",
      "metadata": {
        "id": "view-in-github",
        "colab_type": "text"
      },
      "source": [
        "<a href=\"https://colab.research.google.com/github/ljw1220/python-basic/blob/main/basic_python_Ch9.ipynb\" target=\"_parent\"><img src=\"https://colab.research.google.com/assets/colab-badge.svg\" alt=\"Open In Colab\"/></a>"
      ]
    },
    {
      "cell_type": "markdown",
      "source": [
        "제 9장 도전문제"
      ],
      "metadata": {
        "id": "NHIfHevAmEq4"
      }
    },
    {
      "cell_type": "code",
      "source": [
        "import random                                                                                                    #랜덤 함수 불러오기, 난수 모듈 불러오기\n",
        "question = [\"56 / 8\", \"8 * 9\", \"50 - 25\", \"1 + 6\", \"81 / 9\", \"22 + 10\", \"8 / 4\", \"9 * 7\", \"17 - 4\", \"3 + 5\"]     #산수 문제 리스트 작성\n",
        "dailyQuestion = random.choice(question)                                                                          #작성한 산수 문제 리스트 중 랜덤 선택\n",
        "print(\"#########################\")                                                                               #\"#########################\" 출력\n",
        "print(\"# 오늘의 산수 문제 #\")                                                                                    #\"# 오늘의 산수 문제 #\" 출력\n",
        "print(\"#########################\")                                                                               #\"#########################\" 출력\n",
        "print(\"\")                                                                                                        #공백줄 출력\n",
        "print(dailyQuestion)                                                                                             #리스트 중 랜덤 선택된 산수 문제 출력"
      ],
      "metadata": {
        "colab": {
          "base_uri": "https://localhost:8080/"
        },
        "id": "t4fNEfdlmL4_",
        "outputId": "00eb193e-7b99-42c5-bcfa-c89def905c3c"
      },
      "execution_count": null,
      "outputs": [
        {
          "output_type": "stream",
          "name": "stdout",
          "text": [
            "#########################\n",
            "# 오늘의 산수 문제 #\n",
            "#########################\n",
            "\n",
            "1 + 6\n"
          ]
        }
      ]
    },
    {
      "cell_type": "code",
      "source": [
        "items = {\"커피음료\": 7, \"펜\": 3, \"종이컵\": 2, \"우유\": 1, \"콜라\": 4, \"책\": 5}     #물건 이름과 개수 목록\n",
        "\n",
        "while True:                                                                      #무한루프\n",
        "    print(\"\")\n",
        "    print(\"# 재고 목록 #\")                                                       #\"# 재고 목록 #\" 출력\n",
        "    for key in sorted(items.keys()):                                             #반복 범위 설정\n",
        "        print(key, items[key])\n",
        "    \n",
        "    print(\"\\n********************\")                                              #\\n:줄바꿈\n",
        "    print(\"0. 종료\")\n",
        "    print(\"1. 재고 추가\")\n",
        "    print(\"2. 재고 삭제\")\n",
        "    print(\"********************\\n\")                                              #\\n:줄바꿈\n",
        "    a = int(input(\"무엇을 하시겠습니까?: \"))                                     #변수 a 선언하고 정수형으로 받기\n",
        "\n",
        "    if a == 1:                                                                   #변수 a가 1과 같은 경우(재고 추가 선택)\n",
        "        item = input(\"물건의 이름을 입력하시오: \")                               #변수 item 선언, 재고 추가할 물건 이름 입력 칸 생성\n",
        "        num = input(\"몇 개를 추가하시겠습니다?: \")                               #변수 num 선언, 추가 개수 입력 칸 생성\n",
        "        items[item] = int(items[item]) + int(num)                                #기존 물건의 개수와 추가할 물건의 개수 정수형으로 변환하여 더함\n",
        "\n",
        "    elif a == 2:                                                                 #변수 a가 2와 같은 경우(재고 삭제 선택)\n",
        "        item = input(\"물건의 이름을 입력하시오: \")                               #변수 item 선언, 재고 삭제할 물건 이름 입력 칸 생성\n",
        "        num = input(\"몇 개를 삭제하시겠습니까?: \")                               #변수 num 선언, 삭제 개수 입력 칸 생성\n",
        "        items[item] = int(items[item]) - int(num)                                #기존 물건의 개수와 삭제할 물건의 개수 정수형으로 변환하여 더함\n",
        "    \n",
        "    else:                                                                        #나머지 경우(0번 혹은 종료 선택)\n",
        "        break                                                                    #루프 종료"
      ],
      "metadata": {
        "id": "lgerpm_dpRJJ"
      },
      "execution_count": null,
      "outputs": []
    },
    {
      "cell_type": "code",
      "source": [
        "english_dict = dict()\n",
        "english_dict['하나'] = 'one'\n",
        "english_dict['둘'] = 'two'\n",
        "english_dict['셋'] = 'three'\n",
        "\n",
        "word = input(\"단어를 입력하시오.: \")              #\n",
        "print(english_dict[word])"
      ],
      "metadata": {
        "colab": {
          "base_uri": "https://localhost:8080/"
        },
        "id": "cF776y7quhn8",
        "outputId": "91f9d940-6287-4c46-f2b3-fcba0d08cb44"
      },
      "execution_count": null,
      "outputs": [
        {
          "output_type": "stream",
          "name": "stdout",
          "text": [
            "단어를 입력하시오.: 둘\n",
            "two\n"
          ]
        }
      ]
    },
    {
      "cell_type": "code",
      "source": [
        "import smtplib                                                       #이메일 보내는 함수 불러오기\n",
        "from email.mime.text import MIMEText                                 #MIMEText:메일을 보낼 때 메세지의 제목과 본문을 설정하기 위한 모듈\n",
        "\n",
        "me = 'abc@server.kr'                                                 #보내는 사람 메일 주소\n",
        "you = ['def1@server.com', 'def2@server.com', 'def3@server.com']      #받는 사람 메일 주소\n",
        "contents = '12월 20일에 동창회가 있으니 참석해 주시기 바랍니다.'     #이메일의 내용 작성\n",
        "\n",
        "msg = MIMEText(contents, _charset='euc-kr')                          #메세지 내용\n",
        "msg['Subject'] = '동창회 모임'                                       #메세지의 제목\n",
        "msg['From'] = me                                                     #보내는 사람\n",
        "msg['To'] = you                                                      #받는 사람\n",
        "\n",
        "server = smtplib.SMTP('smtp.gmail.com', 587)                         #자신의 구글 계정 이용(smtp.gmail.com:지메일을 사용하기 위한 SMTP 변수, 587:지메일 포트번호)\n",
        "server.ehlo()\n",
        "server.starttls()                                                    #smtp 연결을 TLS 모드로 변경, TLS 보안\n",
        "server.ehlo()\n",
        "\n",
        "server.login(\"자신의 아이디\", \"패스워드\")                            #smtp 로그인 인증\n",
        "\n",
        "for i in range(len(you)):                                            #반복 범위 설정\n",
        "    server.sendmail(me, you[i], msg.as_string())                     #메일 보내기\n",
        "server.quit()                                                        #종료"
      ],
      "metadata": {
        "id": "KzJyTPBMwY9S"
      },
      "execution_count": null,
      "outputs": []
    },
    {
      "cell_type": "markdown",
      "source": [
        "제 9장 연습문제"
      ],
      "metadata": {
        "id": "gVwYM6EP68Vx"
      }
    },
    {
      "cell_type": "code",
      "source": [
        "alist = []\n",
        "sum = 0\n",
        "\n",
        "for i in range(5):                             #5번 반복하도록 범위 설정\n",
        "    i = int(input(\"정수를 입력하시오.: \"))     #변수 i 선언하고 정수형으로 받기\n",
        "    alist.append(i)                            #alist 목록에 입력한 숫자 추가\n",
        "\n",
        "for i in alist:\n",
        "    sum += i                                   #sum = sum + i\n",
        "avg = sum/len(alist)                           #평균값 구하는 식 사용\n",
        "print(\"평균=\", avg)                            #평균값 출력"
      ],
      "metadata": {
        "colab": {
          "base_uri": "https://localhost:8080/"
        },
        "id": "W-BsbpRv6_w_",
        "outputId": "702ecfa3-a602-476a-eb08-523f4c44f3cb"
      },
      "execution_count": 1,
      "outputs": [
        {
          "output_type": "stream",
          "name": "stdout",
          "text": [
            "정수를 입력하시오.: 90\n",
            "정수를 입력하시오.: 86\n",
            "정수를 입력하시오.: 88\n",
            "정수를 입력하시오.: 96\n",
            "정수를 입력하시오.: 100\n",
            "평균= 92.0\n"
          ]
        }
      ]
    },
    {
      "cell_type": "code",
      "source": [
        "import random                                                    #랜덤 함수 불러오기, 난수 모듈 불러오기\n",
        "counters = [0, 0, 0, 0, 0, 0]\n",
        "\n",
        "for i in range(1000):                                            #1000번 반복하도록 범위 설정\n",
        "    value = random.randint(0, 5)                                 #변수 value 선언, 랜덤 선택\n",
        "    counters[value] = counters[value] + 1                        #랜덤 선택한 수에 1 더함\n",
        "\n",
        "for i in range(6):                                               #6번 반복하도록 범위 설정\n",
        "    print(\"주사위가 \", i+1, \"인 경우는 \", counters[i], \"번\")     #\"주사위가 ~인 경우는 ~번\" 출력"
      ],
      "metadata": {
        "colab": {
          "base_uri": "https://localhost:8080/"
        },
        "id": "G9uTVlgl8iR8",
        "outputId": "e83322cb-7640-4975-8782-10feb5e742d5"
      },
      "execution_count": 2,
      "outputs": [
        {
          "output_type": "stream",
          "name": "stdout",
          "text": [
            "주사위가  1 인 경우는  156 번\n",
            "주사위가  2 인 경우는  159 번\n",
            "주사위가  3 인 경우는  167 번\n",
            "주사위가  4 인 경우는  177 번\n",
            "주사위가  5 인 경우는  184 번\n",
            "주사위가  6 인 경우는  157 번\n"
          ]
        }
      ]
    },
    {
      "cell_type": "code",
      "source": [
        "contacts = { }\n",
        "\n",
        "while True:                                                                 #무한루프\n",
        "        name = input(\"(입력모드)이름을 입력하시오.: \")                      #변수 name 선언, 이름 입력 칸 생성\n",
        "        if not name:                                                        #이름 없는 경우\n",
        "                break;                                                      #루프 종료(검색 모드로 전환)\n",
        "        tel = input(\"전화번호를 입력하시오.: \")                             #변수 tel 선언, 전화번호 입력 칸 생성\n",
        "        contacts[name] = tel\n",
        "\n",
        "while True:                                                                 #무한루프\n",
        "        name = input(\"(검색모드)이름을 입력하시오.: \"                       #변수 name 선언, 이름 검색하는 칸 생성\n",
        "        if not name:                                                        #이름 없는 경우\n",
        "                break;                                                      #루프 종료\n",
        "        if name in contacts :                                               #연락처에 저장되어 있는 경우\n",
        "                print(name, \"의 전화번호는\", contacts[name], \"입니다.\")     #검색한 사람의 전화번호 출력해줌"
      ],
      "metadata": {
        "id": "gBGalcR8a-Yt"
      },
      "execution_count": null,
      "outputs": []
    },
    {
      "cell_type": "code",
      "source": [
        "import turtle                                     #turtle 모듈 불러오기\n",
        "import random                                     #랜덤 함수 불러오기, 난수 모듈 불러오기\n",
        "\n",
        "t = turtle.Turtle()                               #turtle을 t로 선언\n",
        "t.shape(\"turtle\")                                 #turtle 모듈의 아이콘을 거북이 모양으로 설정\n",
        "\n",
        "def draw_square(x, y, c):                         #함수 draw_square() 정의하기\n",
        "        t.up()                                    #펜 들기\n",
        "        t.goto(x, y)                              #좌표 (x, y)으로 이동\n",
        "        t.down()                                  #펜 내려놓기\n",
        "        t.color(\"black\", c)                       #펜 색상 설정\n",
        "        t.begin_fill()                            #속이 채워진 도형 그려짐\n",
        "        t.forward(100)                            #앞으로 100픽셀 이동\n",
        "        t.left(90)                                #왼쪽으로 90도 회전\n",
        "        t.forward(100)                            #앞으로 100픽셀 이동\n",
        "        t.left(90)                                #왼쪽으로 90도 회전\n",
        "        t.forward(100)                            #앞으로 100픽셀 이동\n",
        "        t.left(90)                                #왼쪽으로 90도 회전\n",
        "        t.forward(100)                            #앞으로 100픽셀 이동\n",
        "        t.left(90)                                #왼쪽으로 90도 회전\n",
        "        t.end_fill()                              #채우기 종료\n",
        "\n",
        "for c in [\"yellow\", \"red\", \"purple\", \"blue\"]:     #반복 범위 설정\n",
        "        x = random.randint(-100, 100)             #변수 x 선언, 주어진 범위 중에서 랜덤 선택\n",
        "        y = random.randint(-100, 100)             #변수 y 선언, 주어진 범위 중에서 랜덤 선택\n",
        "        draw_square(x, y, c)                      #정의된 함수 draw_square() 사용"
      ],
      "metadata": {
        "id": "cqMjNCvybBq5"
      },
      "execution_count": null,
      "outputs": []
    },
    {
      "cell_type": "code",
      "source": [
        "import turtle                                                                            #turtle 모듈 불러오기\n",
        "import random                                                                            #랜덤 함수 불러오기, 난수 모듈 불러오기\n",
        "\n",
        "t = turtle.Turtle()                                                                      #turtle을 t로 선언\n",
        "s = turtle.Screen()\n",
        "\n",
        "def draw_shape(t, c, length, sides, x, y):                                               #함수 draw_shape() 정의하기\n",
        "    t.up()                                                                               #펜 들기\n",
        "    t.goto(x, y)                                                                         #좌표 (x, y)으로 이동\n",
        "    t.down()                                                                             #펜 내려놓기\n",
        "    t.fillcolor(c)                                                                       #도형 채우기 색상 설정\n",
        "    angle = 360.0 / sides                                                                #변수 angle 선언, 360도를 랜덤 선택되는 변 개수로 나누어 하나의 각도 구하는 식 사용\n",
        "    t.begin_fill()                                                                       #속이 채워진 도형 그려짐\n",
        "    for dist in range(sides):                                                            #반복 범위 설정\n",
        "        t.forward(length)                                                                #랜덤 선택되는 길이만큼 앞으로 이동\n",
        "        t.left(angle)                                                                    #계산된 각도 만큼 왼쪽으로 회전\n",
        "    t.end_fill()                                                                         #채우기 종료\n",
        "\n",
        "for i in range(10):                                                                      #10번 반복하도록 범위 설정\n",
        "    color = random.choice(['white', 'yellow', 'blue', 'skyblue', 'orange', 'green'])     #랜덤 선택될 도형의 색상 리스트\n",
        "    side_length = random.randint(10, 100)                                                #변의 길이 랜덤 선택\n",
        "    sides = random.randint(3, 10)                                                        #변의 개수 랜덤 선택\n",
        "    x = random.randint(-200, 200)                                                        #x좌표 랜덤 선택\n",
        "    y = random.randint(-200, 200)                                                        #y좌표 랜덤 선택\n",
        "    draw_shape(t, color, side_length, sides, x, y)                                       #정의된 함수 draw_shape() 사용"
      ],
      "metadata": {
        "id": "dkdf52b2fs6U"
      },
      "execution_count": null,
      "outputs": []
    },
    {
      "cell_type": "code",
      "source": [
        "import turtle                                                                            #turtle 모듈 불러오기\n",
        "import random                                                                            #랜덤 함수 불러오기, 난수 모듈 불러오기\n",
        "\n",
        "t = turtle.Turtle()                                                                      #turtle을 t로 선언\n",
        "s = turtle.Screen()\n",
        "s.bgcolor(\"black\")                                                                       #배경의 색상을 검정색으로 설정\n",
        "\n",
        "def draw_star(aturtle, color, side_length, x, y):                                        #별을 그리는 함수 draw_star() 정의하기\n",
        "    aturtle.color(color)                                                                 #펜의 색상 설정(랜덤 선택)\n",
        "    aturtle.begin_fill()                                                                 #속이 채워진 도형 그려짐\n",
        "    aturtle.penup()                                                                      #펜 들기\n",
        "    aturtle.goto(x, y)                                                                   #좌표 (x, y)로 이동\n",
        "    aturtle.pendown()                                                                    #펜 내려놓기\n",
        "    for i in range(5):                                                                   #5번 반복하도록 범위 설정\n",
        "        aturtle.forward(side_length)                                                     #랜덤 선택된 변의 길이만큼 앞으로 이동\n",
        "        aturtle.right(144)                                                               #오른쪽으로 144도 회전\n",
        "        aturtle.forward(side_length)                                                     #랜덤 선택된 변의 길이만큼 앞으로 이동\n",
        "    aturtle.end_fill()                                                                   #채우기 종료\n",
        "\n",
        "for i in range(20):                                                                      #20번 반복하도록 범위 설정\n",
        "    color = random.choice(['white', 'yellow', 'blue', 'skyblue', 'orange', 'green'])     #별의 색상 랜덤 선택하기\n",
        "    side_length = random.randint(10, 100)                                                #주어진 범위 중 변의 길이 랜덤 선택\n",
        "    x = random.randint(-200, 200)                                                        #주어진 범위 중 x좌표 랜덤 선택\n",
        "    y = random.randint(-200, 200)                                                        #주어진 범위 중 y좌표 랜덤 선택\n",
        "    draw_star(t, color, side_length, x, y)                                               #정의된 함수 draw_star() 사용"
      ],
      "metadata": {
        "id": "wjtuVy_ciJjq"
      },
      "execution_count": null,
      "outputs": []
    },
    {
      "cell_type": "code",
      "source": [
        "domains = {\"kr\":\"대한민국\", \"us\":\"미국\", \"jp\":\"일본\", \"de\":\"독일\", \"sk\":\"슬로바키아\", \"hu\":\"헝가리\", \"no\":\"노르웨이\"}    #도메인 목록 작성\n",
        "\n",
        "for k, v in domains.items():                                                                                             #반복 범위 설정\n",
        "    print(k, \":\", v)                                                                                                     #\"도메인:나라\" 출력"
      ],
      "metadata": {
        "colab": {
          "base_uri": "https://localhost:8080/"
        },
        "id": "AKqjuirdy5gi",
        "outputId": "be8bc95a-4a91-4a00-e43b-418fdb35b877"
      },
      "execution_count": 1,
      "outputs": [
        {
          "output_type": "stream",
          "name": "stdout",
          "text": [
            "kr : 대한민국\n",
            "us : 미국\n",
            "jp : 일본\n",
            "de : 독일\n",
            "sk : 슬로바키아\n",
            "hu : 헝가리\n",
            "no : 노르웨이\n"
          ]
        }
      ]
    },
    {
      "cell_type": "code",
      "source": [
        "problems = {'파이썬':'최근에 가장 떠오르는 프로그래밍 언어', '변수':'데이터를 저장하는 메모리 공간', '함수':'작업을 수행하는 문장들의 집합에 이름을 붙인 것', '리스트':'서로 관련이 없는 항목들의 모임'}    #단어에 대한 설명\n",
        "\n",
        "def show_words(problems):                                          #단어에 대한 설명을 보여주는 함수 show_words() 정의                                                                                                           \n",
        "    display_message = \" \"\n",
        "    i = 1\n",
        "    for word in problems.keys():                                   #반복 범위 설정\n",
        "        display_message += \"(\"+str(i)+\")\"                          #display_message = display_message + (i)\n",
        "        display_message += word + \" \"                              #display_message = display_message + word + \" \"\n",
        "        i += 1                                                     #i = i + 1\n",
        "    print(display_message)\n",
        "\n",
        "for meaning in problems.values():                                  #반복 범위 설정\n",
        "    print(\"다음은 어떤 단어에 대한 설명일까요? 주관식입니다.\")     #\"다음은 어떤 단어에 대한 설명일까요? 주관식입니다.\" 출력\n",
        "    print(\"\\\"\"+meaning+\"\\\"\")                                       #\"설명\" 출력\n",
        "    correct = False                                                    \n",
        "    while not correct:                                                   \n",
        "        show_words(problems)                                       #정의된 함수 show_words() 사용\n",
        "        guessed_word = input(\" \")                                  #변수 guessed_word 선언\n",
        "        if problems[guessed_word] == meaning:                      #단어와 설명이 일치하면\n",
        "            print(\"정답입니다.\")                                   #\"정답입니다.\" 출력\n",
        "            correct = True\n",
        "        else:                                                      #나머지 경우(일치하지 않는 경우)\n",
        "            print(\"정답이 아닙니다.\")                              #\"정답이 아닙니다.\" 출력"
      ],
      "metadata": {
        "colab": {
          "base_uri": "https://localhost:8080/"
        },
        "id": "RM_fJ4zx0puF",
        "outputId": "54ae843c-7174-4ecd-8200-eb61b2271594"
      },
      "execution_count": 2,
      "outputs": [
        {
          "output_type": "stream",
          "name": "stdout",
          "text": [
            "다음은 어떤 단어에 대한 설명일까요? 주관식입니다.\n",
            "\"최근에 가장 떠오르는 프로그래밍 언어\"\n",
            " (1)파이썬 (2)변수 (3)함수 (4)리스트 \n",
            " 파이썬\n",
            "정답입니다.\n",
            "다음은 어떤 단어에 대한 설명일까요? 주관식입니다.\n",
            "\"데이터를 저장하는 메모리 공간\"\n",
            " (1)파이썬 (2)변수 (3)함수 (4)리스트 \n",
            " 변수\n",
            "정답입니다.\n",
            "다음은 어떤 단어에 대한 설명일까요? 주관식입니다.\n",
            "\"작업을 수행하는 문장들의 집합에 이름을 붙인 것\"\n",
            " (1)파이썬 (2)변수 (3)함수 (4)리스트 \n",
            " 함수\n",
            "정답입니다.\n",
            "다음은 어떤 단어에 대한 설명일까요? 주관식입니다.\n",
            "\"서로 관련이 없는 항목들의 모임\"\n",
            " (1)파이썬 (2)변수 (3)함수 (4)리스트 \n",
            " 리스트\n",
            "정답입니다.\n"
          ]
        }
      ]
    }
  ]
}