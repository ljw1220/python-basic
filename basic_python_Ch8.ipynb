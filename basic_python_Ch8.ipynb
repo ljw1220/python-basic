{
  "nbformat": 4,
  "nbformat_minor": 0,
  "metadata": {
    "colab": {
      "name": "basic python_Ch8",
      "provenance": [],
      "authorship_tag": "ABX9TyMO2AePG+sDf3dZ7NGU3uut",
      "include_colab_link": true
    },
    "kernelspec": {
      "name": "python3",
      "display_name": "Python 3"
    },
    "language_info": {
      "name": "python"
    }
  },
  "cells": [
    {
      "cell_type": "markdown",
      "metadata": {
        "id": "view-in-github",
        "colab_type": "text"
      },
      "source": [
        "<a href=\"https://colab.research.google.com/github/ljw1220/python-basic/blob/main/basic_python_Ch8.ipynb\" target=\"_parent\"><img src=\"https://colab.research.google.com/assets/colab-badge.svg\" alt=\"Open In Colab\"/></a>"
      ]
    },
    {
      "cell_type": "markdown",
      "source": [
        "제 8장 도전문제"
      ],
      "metadata": {
        "id": "b4TPOtQBR2fY"
      }
    },
    {
      "cell_type": "code",
      "source": [
        "import turtle                       #turtle 모듈 불러오기\n",
        "import random                       #랜덤 함수 불러오기, 난수 모듈 불러오기\n",
        "\n",
        "screen = turtle.Screen()\n",
        "image1 = \"d:/rabbit.gif\"            #첫 번째 외부 이미지 사용\n",
        "image2 = \"d:/turtle.gif\"            #두 번째 외부 이미지 사용\n",
        "image3 = \"d:/turtle2.gif\"           #세 번째 외부 이미지 사용\n",
        "screen.addshape(image1)\n",
        "screen.addshape(image2)\n",
        "screen.addshape(image3)\n",
        "\n",
        "t1 = turtle.Turtle()                #첫 번째 거북이 생성\n",
        "t1.shape(image1)                    #turtle 모듈의 아이콘을 image1으로 설정\n",
        "t1.pensize(5)                       #펜의 두께를 5로 설정\n",
        "t1.penup()                          #첫 번째 거북이의 펜 들기\n",
        "t1.goto(-300, 0)                    #좌표 (-300, 0)으로 이동\n",
        "\n",
        "t2 = turtle.Turtle()                #두 번째 거북이 생성\n",
        "t2.shape(image2)                    #turtle 모듈의 아이콘을 image2로 설정\n",
        "t2.pensize(5)                       #펜의 두께를 5로 설정\n",
        "t2.penup()                          #두 번째 거북이의 펜 들기\n",
        "t2.goto(-300, -100)                 #좌표 (-300, -100)으로 이동\n",
        "\n",
        "t3 = turtle.Turtle()                #세 번째 거북이 생성\n",
        "t3.shape(image3)                    #turtle 모듈의 아이콘을 image3로 설정\n",
        "t3.pensize(5)                       #펜의 두께를 5로 설정\n",
        "t3.penup()                          #세 번째 거북이의 펜 들기\n",
        "t3.goto(-300, -200)                 #좌표 (-300, -200)으로 이동\n",
        "\n",
        "t1.pendown()                        #첫 번째 거북이의 펜 내려놓기\n",
        "t2.pendown()                        #두 번째 거북이의 펜 내려놓기\n",
        "t3.pendown()                        #세 번째 거북이의 펜 내려놓기\n",
        "t1.speed(1)                         #첫 번째 거북이의 실행 속도 설정\n",
        "t2.speed(1)                         #두 번째 거북이의 실행 속도 설정\n",
        "t3.speed(1)                         #세 번째 거북이의 실행 속도 설정\n",
        "\n",
        "for i in range(100):                #100번 반복하도록 범위 설정\n",
        "    d1 = random.randint(1, 60)      #변수 d1을 선언하고 랜덤 선택하기\n",
        "    t1.forward(d1)                  #첫 번째 거북이가 랜덤 선택된 거리만큼 앞으로 이동\n",
        "    d2 = random.randint(1, 60)      #변수 d2를 선언하고 랜덤 선택하기\n",
        "    t2.forward(d2)                  #두 번째 거북이가 랜덤 선택된 거리만큼 앞으로 이동\n",
        "    d3 = random.randint(1, 60)      #변수 d3를 선언하고 랜덤 선택하기\n",
        "    t3.forward(d3)                  #세 번째 거북이가 랜덤 선택된 거리만큼 앞으로 이동"
      ],
      "metadata": {
        "id": "2tnaRotJTpVV"
      },
      "execution_count": null,
      "outputs": []
    }
  ]
}