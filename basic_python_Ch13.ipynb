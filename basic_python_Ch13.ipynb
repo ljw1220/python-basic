{
  "nbformat": 4,
  "nbformat_minor": 0,
  "metadata": {
    "colab": {
      "name": "basic python_Ch13",
      "provenance": [],
      "authorship_tag": "ABX9TyNVQh+zOafaCqjG50VZo+N5",
      "include_colab_link": true
    },
    "kernelspec": {
      "name": "python3",
      "display_name": "Python 3"
    },
    "language_info": {
      "name": "python"
    }
  },
  "cells": [
    {
      "cell_type": "markdown",
      "metadata": {
        "id": "view-in-github",
        "colab_type": "text"
      },
      "source": [
        "<a href=\"https://colab.research.google.com/github/ljw1220/python-basic/blob/main/basic_python_Ch13.ipynb\" target=\"_parent\"><img src=\"https://colab.research.google.com/assets/colab-badge.svg\" alt=\"Open In Colab\"/></a>"
      ]
    },
    {
      "cell_type": "markdown",
      "source": [
        "제 13장 연습문제"
      ],
      "metadata": {
        "id": "p63MvdTZWMYK"
      }
    },
    {
      "cell_type": "code",
      "source": [
        "class Circle:\n",
        "    def __init__(self, radius):\n",
        "        self.radius = radius\n",
        "    \n",
        "    def calcPerimeter(self):\n",
        "        return 2 * 3.141592 * self.radius\n",
        "    \n",
        "    def calcArea(self):\n",
        "        return 3.141592 * self.radius * self.radius\n",
        "\n",
        "circle = Circle(100)\n",
        "print(\"반지름: \", circle.radius, \"원의 면적: \", circle.calcArea(), \"원의 둘레: \", circle.calcPerimeter())"
      ],
      "metadata": {
        "colab": {
          "base_uri": "https://localhost:8080/"
        },
        "id": "93ZNi_pUWQvj",
        "outputId": "ae8f513c-0177-46e8-bede-05191cc3848f"
      },
      "execution_count": null,
      "outputs": [
        {
          "output_type": "stream",
          "name": "stdout",
          "text": [
            "반지름:  100 원의 면적:  31415.92 원의 둘레:  628.3184\n"
          ]
        }
      ]
    },
    {
      "cell_type": "code",
      "source": [
        "class TV:\n",
        "    def __init__(self):\n",
        "        self.channel = 1\n",
        "        self.volume = 0\n",
        "        self.on = False\n",
        "    \n",
        "    def turnOn(self):\n",
        "        self.on = True\n",
        "\n",
        "    def turnOff(self):\n",
        "        self.on = False\n",
        "\n",
        "    def setVolume(self, volume):\n",
        "        self.volume = volume\n",
        "\n",
        "    def setChannel(self, channel):\n",
        "        self.channel = channel\n",
        "\n",
        "tv = TV()\n",
        "tv.turnOn()\n",
        "tv.setChannel(11)\n",
        "tv.setVolume(6)\n",
        "\n",
        "print(\"TV의 채널: \", tv.channel, \"TV의 음량: \", tv.volume)"
      ],
      "metadata": {
        "id": "ffGMRk2EYpxp"
      },
      "execution_count": null,
      "outputs": []
    },
    {
      "cell_type": "code",
      "source": [
        "import turtle\n",
        "\n",
        "lee = turtle.Pen()\n",
        "park = turtle.Pen()\n",
        "\n",
        "lee.shape(\"turtle\")\n",
        "lee.forward(100)\n",
        "lee.right(90)\n",
        "lee.forward(20)\n",
        "lee.left(90)\n",
        "lee.forward(100)\n",
        "\n",
        "park.shape(\"circle\")\n",
        "park.forward(-100)\n",
        "park.right(90)\n",
        "park.forward(-20)\n",
        "park.left(90)\n",
        "park.forward(-100)"
      ],
      "metadata": {
        "id": "xHdKO2Cqa-Rs"
      },
      "execution_count": null,
      "outputs": []
    },
    {
      "cell_type": "code",
      "source": [
        "import turtle\n",
        "class MyTurtle(turtle.Turtle):\n",
        "    def drawSquare(self):\n",
        "        for i in range(4):\n",
        "            self.right(90)\n",
        "            self.forward(100)\n",
        "\n",
        "my_turtle = MyTurtle()\n",
        "my_turtle.forward(100)\n",
        "my_turtle.drawSquare()"
      ],
      "metadata": {
        "id": "ZsOY1w_HdLXS"
      },
      "execution_count": null,
      "outputs": []
    }
  ]
}