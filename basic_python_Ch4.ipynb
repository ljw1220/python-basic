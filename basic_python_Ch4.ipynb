{
  "nbformat": 4,
  "nbformat_minor": 0,
  "metadata": {
    "colab": {
      "name": "basic python_Ch4",
      "provenance": [],
      "authorship_tag": "ABX9TyN1MH0TqoJN6sjDRM5fU/PS",
      "include_colab_link": true
    },
    "kernelspec": {
      "name": "python3",
      "display_name": "Python 3"
    },
    "language_info": {
      "name": "python"
    }
  },
  "cells": [
    {
      "cell_type": "markdown",
      "metadata": {
        "id": "view-in-github",
        "colab_type": "text"
      },
      "source": [
        "<a href=\"https://colab.research.google.com/github/ljw1220/python-basic/blob/main/basic_python_Ch4.ipynb\" target=\"_parent\"><img src=\"https://colab.research.google.com/assets/colab-badge.svg\" alt=\"Open In Colab\"/></a>"
      ]
    },
    {
      "cell_type": "markdown",
      "metadata": {
        "id": "LVHiWES6Bue1"
      },
      "source": [
        "제 4장 도전문제"
      ]
    },
    {
      "cell_type": "code",
      "metadata": {
        "id": "U9_3UHSxBxYm"
      },
      "source": [
        "import turtle                                                 #turtle 모듈 불러오기\n",
        "t = turtle.Turtle()                                           #turtle을 t로 선언\n",
        "t.shape(\"turtle\")                                             #turtle 모듈의 아이콘을 거북이 모양으로 선언\n",
        "\n",
        "s = turtle.textinput(\"\", \"이름을 입력하시오: \")               #변수 s를 선언\n",
        "\n",
        "for i in range(4):                                            #4번 반복하도록 범위 설정\n",
        "    t.write(\"안녕하세요?\" + s + \"씨, 터틀 인사드립니다.\")     #멘트 출력\n",
        "    t.left(90)                                                #왼쪽으로 90도 회전\n",
        "    t.forward(100)                                            #앞으로 100픽셀 이동"
      ],
      "execution_count": null,
      "outputs": []
    },
    {
      "cell_type": "code",
      "metadata": {
        "colab": {
          "base_uri": "https://localhost:8080/"
        },
        "id": "qDpNGlhnhGVD",
        "outputId": "d460e55b-4638-401c-e93d-4e8435099875"
      },
      "source": [
        "print(\"안녕하세요?\")                                          #\"안녕하세요?\" 출력\n",
        "name = input(\"이름이 어떻게 되시나요?\")                       #변수 name을 선언\n",
        "print(\"만나서 반갑습니다.\" + name + \"씨\")                     #\"만나서 반갑습니다. ~씨\" 출력\n",
        "print(\"이름의 길이는 다음과 같군요: \", end = \"\")       \n",
        "print(len(name))                                              #이름의 길이 출력\n",
        "age = int(input(\"나이가 어떻게 되나요?\"))                     #변수 age 선언하고 정수형으로 받는다\n",
        "print(\"내년이면 \", str(age + 1), \"이 되시는군요.\")            #나이(변수)에 한 살을 더한 값(내년 나이)을 문자열과 함께 출력\n",
        "hobby = input(\"취미가 무엇인가요?\")                           #변수 hobby 선언\n",
        "print(\"네. 저도 \" + hobby + \"좋아합니다.\")                    #\"네. 저도 ~ 좋아합니다.\" 출력"
      ],
      "execution_count": null,
      "outputs": [
        {
          "output_type": "stream",
          "name": "stdout",
          "text": [
            "안녕하세요?\n",
            "이름이 어떻게 되시나요?이지우\n",
            "만나서 반갑습니다.이지우씨\n",
            "이름의 길이는 다음과 같군요: 3\n",
            "나이가 어떻게 되나요?20\n",
            "내년이면  21 이 되시는군요.\n",
            "취미가 무엇인가요?넷플릭스 보기\n",
            "네. 저도 넷플릭스 보기좋아합니다.\n"
          ]
        }
      ]
    },
    {
      "cell_type": "code",
      "metadata": {
        "colab": {
          "base_uri": "https://localhost:8080/"
        },
        "id": "9uM_xKijhIRJ",
        "outputId": "cb355c35-7a4c-4881-b139-4237aeb2d809"
      },
      "source": [
        "year = input(\"오늘의 연도를 입력하시오: \")                    #변수 year를 선언\n",
        "month = input(\"오늘의 월을 입력하시오: \")                     #변수 month를 선언\n",
        "date = input(\"오늘의 일을 입력하시오: \")                      #변수 date를 선언\n",
        "print(month + \"/\", date + \"/\", year)                          #월/일/연도 출력"
      ],
      "execution_count": null,
      "outputs": [
        {
          "output_type": "stream",
          "name": "stdout",
          "text": [
            "오늘의 연도를 입력하시오: 2021\n",
            "오늘의 월을 입력하시오: 10\n",
            "오늘의 일을 입력하시오: 29\n",
            "10/ 29/ 2021\n"
          ]
        }
      ]
    },
    {
      "cell_type": "code",
      "metadata": {
        "colab": {
          "base_uri": "https://localhost:8080/"
        },
        "id": "UFi9muFWirhL",
        "outputId": "7af07e3b-33eb-4367-99a7-df643e2b29a7"
      },
      "source": [
        "import time\n",
        "now = time.time()\n",
        "thisYear = int(1970 + now // (365 * 24 * 3600))               #변수 thisYear을 선언하고 올해 연도 계산하여 정수형으로 받는다\n",
        "print(\"올해는 \", thisYear, \"입니다.\")                         #올해 연도 출력\n",
        "age = int(input(\"몇 살이신지요? \"))                           #변수 age를 선언하고 정수형으로 받는다\n",
        "print(\"2050년에는 \", (age + 2050 - thisYear), \"살이시군요.\")  #2050년의 나이 출력"
      ],
      "execution_count": null,
      "outputs": [
        {
          "output_type": "stream",
          "name": "stdout",
          "text": [
            "올해는  2021 입니다.\n",
            "몇 살이신지요? 20\n",
            "2050년에는  49 살이시군요.\n"
          ]
        }
      ]
    },
    {
      "cell_type": "markdown",
      "metadata": {
        "id": "SoD2nquBqVHc"
      },
      "source": [
        "제 4장 연습문제"
      ]
    },
    {
      "cell_type": "code",
      "metadata": {
        "colab": {
          "base_uri": "https://localhost:8080/",
          "height": 35
        },
        "id": "PtUEwJ7XqXt_",
        "outputId": "3a003a88-5a01-4b86-de53-048ec53944d9"
      },
      "source": [
        "'나는 ' + str(12) + '개의 사과를 먹었다.'                     #숫자를 문자열로 변환하여 다른 문자열과 함께 출력"
      ],
      "execution_count": null,
      "outputs": [
        {
          "output_type": "execute_result",
          "data": {
            "application/vnd.google.colaboratory.intrinsic+json": {
              "type": "string"
            },
            "text/plain": [
              "'나는 12개의 사과를 먹었다.'"
            ]
          },
          "metadata": {},
          "execution_count": 3
        }
      ]
    },
    {
      "cell_type": "code",
      "metadata": {
        "colab": {
          "base_uri": "https://localhost:8080/",
          "height": 35
        },
        "id": "Clo2k86CsFT4",
        "outputId": "58f07571-162f-428c-8c3e-15811f9671a8"
      },
      "source": [
        "'apple' + 'grape'"
      ],
      "execution_count": null,
      "outputs": [
        {
          "output_type": "execute_result",
          "data": {
            "application/vnd.google.colaboratory.intrinsic+json": {
              "type": "string"
            },
            "text/plain": [
              "'applegrape'"
            ]
          },
          "metadata": {},
          "execution_count": 10
        }
      ]
    },
    {
      "cell_type": "code",
      "metadata": {
        "colab": {
          "base_uri": "https://localhost:8080/",
          "height": 35
        },
        "id": "do0BlN_2u_jj",
        "outputId": "ce238854-1604-4c4a-aa58-3ebcbf70f281"
      },
      "source": [
        "'apple' * 3"
      ],
      "execution_count": null,
      "outputs": [
        {
          "output_type": "execute_result",
          "data": {
            "application/vnd.google.colaboratory.intrinsic+json": {
              "type": "string"
            },
            "text/plain": [
              "'appleappleapple'"
            ]
          },
          "metadata": {},
          "execution_count": 11
        }
      ]
    },
    {
      "cell_type": "code",
      "metadata": {
        "colab": {
          "base_uri": "https://localhost:8080/"
        },
        "id": "MUkmZN22vQTR",
        "outputId": "8145bd26-579e-4819-b0d0-d584620e4ee6"
      },
      "source": [
        "str = input(\"문자열을 입력하시오: \")                          #변수 str을 선언\n",
        "s = str[0:2] + str[-2:]                                       #문자열에서 개별 문자 추출\n",
        "print(s)                                                      #앞에서부터 두 개의 문자, 뒤에서부터 두 개의 문자 출력"
      ],
      "execution_count": null,
      "outputs": [
        {
          "output_type": "stream",
          "name": "stdout",
          "text": [
            "문자열을 입력하시오: python\n",
            "pyon\n"
          ]
        }
      ]
    },
    {
      "cell_type": "code",
      "metadata": {
        "colab": {
          "base_uri": "https://localhost:8080/"
        },
        "id": "dqkpiUhL6pLk",
        "outputId": "e34d4500-035f-4f3c-ead5-210a5b67f998"
      },
      "source": [
        "s = input(\"문자열을 입력하시오: \")          #변수 s를 선언\n",
        "s += \"하는 중\"                              #s = s + \"하는 중\"\n",
        "print(s)"
      ],
      "execution_count": null,
      "outputs": [
        {
          "output_type": "stream",
          "name": "stdout",
          "text": [
            "문자열을 입력하시오: 과제\n",
            "과제하는 중\n"
          ]
        }
      ]
    },
    {
      "cell_type": "code",
      "metadata": {
        "colab": {
          "base_uri": "https://localhost:8080/"
        },
        "id": "FdtEfafN8TmB",
        "outputId": "cb0a8a8e-22a7-4509-b178-89a6b47394a5"
      },
      "source": [
        "str = input(\"기호를 입력하시오: \")                            #변수 str을 선언\n",
        "word = input(\"중간에 삽입할 문자열을 입력하시오: \")           #변수 word를 선언\n",
        "s = str[:1] + word + str[1:]                                  #변수 s를 선언\n",
        "print(s)                                                      #추출한 문자(기호)와 그 사이에 다른 문자열 함께 출력"
      ],
      "execution_count": null,
      "outputs": [
        {
          "output_type": "stream",
          "name": "stdout",
          "text": [
            "기호를 입력하시오: []\n",
            "중간에 삽입할 문자열을 입력하시오: python\n",
            "[python]\n"
          ]
        }
      ]
    },
    {
      "cell_type": "code",
      "metadata": {
        "colab": {
          "base_uri": "https://localhost:8080/"
        },
        "id": "7gf1jqqh-HBE",
        "outputId": "5ef61635-8808-4e05-b454-c0a7ffb56c65"
      },
      "source": [
        "lista = [1, 2, 3, 4]\n",
        "sum = 0\n",
        "sum = lista[0] + lista[1] + lista[2] + lista[3]               #리스트 숫자들의 합 계산하기\n",
        "print(\"리스트 = \", lista)                                     #리스트 출력\n",
        "print(\"리스트 숫자들의 합 = \", sum)                           #리스트 숫자들의 합 출력"
      ],
      "execution_count": null,
      "outputs": [
        {
          "output_type": "stream",
          "name": "stdout",
          "text": [
            "리스트 =  [1, 2, 3, 4]\n",
            "리스트 숫자들의 합 =  10\n"
          ]
        }
      ]
    },
    {
      "cell_type": "code",
      "metadata": {
        "id": "ePcFBW3QAQg1"
      },
      "source": [
        "import turtle                                                 #turtle 모듈 불러오기\n",
        "t = turtle.Turtle()                                           #turtle을 t로 선언\n",
        "t.shape(\"turtle\")                                             #turtle 모듈의 아이콘을 거북이 모양으로 선언\n",
        "\n",
        "lista = [ ]\n",
        "color = input(\"색상 #1을 입력하시오: \")                       #변수 color를 선언\n",
        "lista.append(color)\n",
        "color = input(\"색상 #2을 입력하시오: \")                       #변수 color를 선언\n",
        "lista.append(color)\n",
        "color = input(\"색상 #3을 입력하시오: \")                       #변수 color를 선언\n",
        "lista.append(color)\n",
        "\n",
        "t.fillcolor(lista[0])                                         #채워지는 색상 지정\n",
        "t.begin_fill()                                                #채우기 시작\n",
        "t.circle(50)                                                  #반지름이 50인 원(채워진 원) 그리기\n",
        "t.end_fill()                                                  #채우기 종료\n",
        "\n",
        "t.up()                                                        #펜 들기\n",
        "t.goto(100, 0)                                                #좌표 (100, 0)으로 이동\n",
        "t.down()                                                      #펜 내려놓기\n",
        "t.fillcolor(lista[1])                                         #채워지는 색상 지정\n",
        "t.begin_fill()                                                #채우기 시작\n",
        "t.circle(50)                                                  #반지름이 50인 원(채워진 원) 그리기\n",
        "t.end_fill()                                                  #채우기 종료\n",
        "\n",
        "t.up()                                                        #펜 들기\n",
        "t.goto(200, 0)                                                #좌표 (200, 0)으로 이동\n",
        "t.down()                                                      #펜 내려놓기\n",
        "t.fillcolor(lista[2])                                         #채워지는 색상 지정\n",
        "t.begin_fill()                                                #채우기 시작\n",
        "t.circle(50)                                                  #반지름이 50인 원(채워진 원) 그리기\n",
        "t.end_fill()                                                  #채우기 종료"
      ],
      "execution_count": null,
      "outputs": []
    },
    {
      "cell_type": "code",
      "metadata": {
        "id": "UB2Bk4UWAQUK"
      },
      "source": [
        "import turtle                                                 #turtle 모듈 불러오기\n",
        "t = turtle.Turtle()                                           #turtle을 t로 선언\n",
        "t.shape(\"turtle\")                                             #turtle 모듈의 아이콘을 거북이 모양으로 선언\n",
        "\n",
        "lista = []                                                    #공백 리스트 생성\n",
        "lista.append(int(input(\"x1: \")))                              #lista[0] 정수형으로 받는다\n",
        "lista.append(int(input(\"y1: \")))                              #lista[1] 정수형으로 받는다\n",
        "lista.append(int(input(\"x2: \")))                              #lista[2] 정수형으로 받는다\n",
        "lista.append(int(input(\"y2: \")))                              #lista[3] 정수형으로 받는다\n",
        "lista.append(int(input(\"x3: \")))                              #lista[4] 정수형으로 받는다\n",
        "lista.append(int(input(\"y3: \")))                              #lista[5] 정수형으로 받는다\n",
        "\n",
        "t.goto(lista[0], lista[1])                                    #좌표 (x1, y1)으로 이동\n",
        "t.goto(lista[2], lista[3])                                    #좌표 (x2, y2)으로 이동\n",
        "t.goto(lista[4], lista[5])                                    #좌표 (x3, y3)으로 이동"
      ],
      "execution_count": null,
      "outputs": []
    }
  ]
}