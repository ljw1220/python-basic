{
  "nbformat": 4,
  "nbformat_minor": 0,
  "metadata": {
    "colab": {
      "name": "basic python_Ch2",
      "provenance": [],
      "authorship_tag": "ABX9TyPs1T440eyVLCrjO/ICMPuv",
      "include_colab_link": true
    },
    "kernelspec": {
      "name": "python3",
      "display_name": "Python 3"
    },
    "language_info": {
      "name": "python"
    }
  },
  "cells": [
    {
      "cell_type": "markdown",
      "metadata": {
        "id": "view-in-github",
        "colab_type": "text"
      },
      "source": [
        "<a href=\"https://colab.research.google.com/github/ljw1220/python-basic/blob/main/basic_python_Ch2.ipynb\" target=\"_parent\"><img src=\"https://colab.research.google.com/assets/colab-badge.svg\" alt=\"Open In Colab\"/></a>"
      ]
    },
    {
      "cell_type": "markdown",
      "metadata": {
        "id": "YQYJtI04LMCy"
      },
      "source": [
        "제 2장 도전문제"
      ]
    },
    {
      "cell_type": "code",
      "metadata": {
        "colab": {
          "base_uri": "https://localhost:8080/"
        },
        "id": "Q3YPs9Y-LTOc",
        "outputId": "1536095d-82a2-48e2-a7f6-3908b6597635"
      },
      "source": [
        "x = 7\n",
        "y = 6\n",
        "print(x + y)"
      ],
      "execution_count": null,
      "outputs": [
        {
          "output_type": "stream",
          "name": "stdout",
          "text": [
            "13\n"
          ]
        }
      ]
    },
    {
      "cell_type": "code",
      "metadata": {
        "colab": {
          "base_uri": "https://localhost:8080/"
        },
        "id": "UG96gOEtLmRP",
        "outputId": "c853ebe5-77e1-48be-d293-bfe672a219c1"
      },
      "source": [
        "x = '7'\n",
        "y = '6'\n",
        "print(x + y)"
      ],
      "execution_count": null,
      "outputs": [
        {
          "output_type": "stream",
          "name": "stdout",
          "text": [
            "76\n"
          ]
        }
      ]
    },
    {
      "cell_type": "code",
      "metadata": {
        "id": "_UERrj9NLyVQ"
      },
      "source": [
        "import turtle          #turtle 모듈 불러오기\n",
        "t = turtle.Turtle()    #turtle을 t로 선언\n",
        "t.shape(\"turtle\")      #turtle 모듈의 아이콘을 거북이 모양으로 선언\n",
        "radius = 50            #변수 radius의 값을 선언\n",
        "x = 30                 #변수 x의 값을 선언\n",
        "t.circle(radius)       #반지름이 50인 원 그리기\n",
        "t.forward(x)           #앞으로 30픽셀 이동\n",
        "t.circle(radius)       #반지름이 50인 원 그리기\n",
        "x = 60                 #변수 x의 값을 60으로 수정\n",
        "t.forward(x)           #앞으로 60픽셀 이동\n",
        "t.circle(radius)       #반지름이 50인 원 그리기"
      ],
      "execution_count": null,
      "outputs": []
    },
    {
      "cell_type": "code",
      "metadata": {
        "colab": {
          "base_uri": "https://localhost:8080/"
        },
        "id": "7Ze_02rYTsDi",
        "outputId": "5ac82698-3ded-42f5-ebfd-770aaf2916aa"
      },
      "source": [
        "x = int(input(\"첫 번째 정수를 입력하시오.: \"))\n",
        "y = int(input(\"두 번째 정수를 입력하시오.: \"))\n",
        "print(x, \"+\", y, \"=\", x + y)     #더하기\n",
        "print(x, \"-\", y, \"=\", x - y)     #빼기\n",
        "print(x, \"*\", y, \"=\", x * y)     #곱하기\n",
        "print(x, \"/\", y, \"=\", x / y)     #나누기"
      ],
      "execution_count": 1,
      "outputs": [
        {
          "output_type": "stream",
          "name": "stdout",
          "text": [
            "첫 번째 정수를 입력하시오.: 10\n",
            "두 번째 정수를 입력하시오.: 25\n",
            "10 + 25 = 35\n",
            "10 - 25 = -15\n",
            "10 * 25 = 250\n",
            "10 / 25 = 0.4\n"
          ]
        }
      ]
    },
    {
      "cell_type": "markdown",
      "metadata": {
        "id": "ktmeEenQfr_T"
      },
      "source": [
        "제 2장 연습문제"
      ]
    },
    {
      "cell_type": "code",
      "metadata": {
        "colab": {
          "base_uri": "https://localhost:8080/"
        },
        "id": "susvb79EfwS8",
        "outputId": "5d665a28-866b-4807-e2bb-e74bfee8c21e"
      },
      "source": [
        "name = input(\"이름을 입력하시오.: \")\n",
        "age = int(input(\"나이를 입력하시오.: \"))\n",
        "year = 2021 - age + 100     #100살이 되는 연도 계산하기\n",
        "print(name + \"씨는\" + str(year) + \"년에 100살이시네요!\")"
      ],
      "execution_count": 2,
      "outputs": [
        {
          "output_type": "stream",
          "name": "stdout",
          "text": [
            "이름을 입력하시오.: 이지우\n",
            "나이를 입력하시오.: 20\n",
            "이지우씨는2101년에 100살이시네요!\n"
          ]
        }
      ]
    },
    {
      "cell_type": "code",
      "metadata": {
        "colab": {
          "base_uri": "https://localhost:8080/"
        },
        "id": "A2hcjQN0jNBI",
        "outputId": "718d9a7b-80d6-4c53-8cfd-0b1ece812e88"
      },
      "source": [
        "n1 = int(input(\"첫 번째 숫자를 입력하시오.: \"))\n",
        "n2 = int(input(\"두 번째 숫자를 입력하시오.: \"))\n",
        "n3 = int(input(\"세 번째 숫자를 입력하시오.: \"))\n",
        "average = (n1 + n2 + n3) / 3     #평균값 계산하기\n",
        "print(n1, n2, n3, \"의 평균은\", average, \"입니다.\")"
      ],
      "execution_count": 3,
      "outputs": [
        {
          "output_type": "stream",
          "name": "stdout",
          "text": [
            "첫 번째 숫자를 입력하시오.: 90\n",
            "두 번째 숫자를 입력하시오.: 87\n",
            "세 번째 숫자를 입력하시오.: 96\n",
            "90 87 96 의 평균은 91.0 입니다.\n"
          ]
        }
      ]
    },
    {
      "cell_type": "code",
      "metadata": {
        "colab": {
          "base_uri": "https://localhost:8080/"
        },
        "id": "CWiPjPHXkXKW",
        "outputId": "461eed42-cb4a-44f6-cba6-d64fb651f705"
      },
      "source": [
        "radius = int(input(\"반지름을 입력하시오.: \"))\n",
        "area = 3.141592 * radius * radius     #원의 넓이 계산하기\n",
        "print(\"반지름이\", radius, \"인 원의 넓이 =\", area, \"입니다.\")"
      ],
      "execution_count": 4,
      "outputs": [
        {
          "output_type": "stream",
          "name": "stdout",
          "text": [
            "반지름을 입력하시오.: 12\n",
            "반지름이 12 인 원의 넓이 = 452.38924800000007 입니다.\n"
          ]
        }
      ]
    },
    {
      "cell_type": "code",
      "metadata": {
        "id": "zyAkt_aTo4VC"
      },
      "source": [
        "import turtle          #turtle 모듈 불러오기\n",
        "t = turtle.Turtle()    #turtle을 t로 선언\n",
        "t.shape(\"turtle\")      #turtle 모듈의 아이콘을 거북이 모양으로 선언\n",
        "radius = 50            #변수 radius값 선언\n",
        "t.up()                 #펜 들기\n",
        "t.goto(0, 0)           #좌표 (0, 0)으로 이동\n",
        "t.down()               #펜 내려놓기\n",
        "t.circle(radius)       #반지름이 50인 원 그리기\n",
        "radius = radius + 20   #변수 radius값을 70으로 수정\n",
        "t.up()                 #펜 들기\n",
        "t.goto(100, 0)         #좌표 (100, 0)으로 이동\n",
        "t.down()               #펜 내려놓기\n",
        "t.circle(radius)       #반지름이 70인 원 그리기\n",
        "radius = radius + 20   #변수 radius값을 90으로 수정\n",
        "t.up()                 #펜 들기\n",
        "t.goto(200, 0)         #좌표 (200, 0)으로 이동\n",
        "t.down()               #펜 내려놓기\n",
        "t.circle(radius)       #반지름이 90인 원 그리기"
      ],
      "execution_count": null,
      "outputs": []
    },
    {
      "cell_type": "code",
      "metadata": {
        "id": "nzEYhpySo7Cj"
      },
      "source": [
        "import turtle          #turtle 모듈 불러오기\n",
        "t = turtle.Turtle()    #turtle을 t로 선언\n",
        "t.shape(\"turtle\")      #turtle 모듈의 아이콘을 거북이 모양으로 선언\n",
        "side = 100             #변수 side 값을 선언\n",
        "t.forward(side)        #앞으로 100픽셀 이동\n",
        "t.left(120)            #왼쪽으로 120도 회전\n",
        "t.forward(side)        #앞으로 100픽셀 이동\n",
        "t.left(120)            #왼쪽으로 120도 회전\n",
        "t.forward(side)        #앞으로 100픽셀 이동\n",
        "t.left(120)            #왼쪽으로 120도 회전"
      ],
      "execution_count": null,
      "outputs": []
    },
    {
      "cell_type": "code",
      "metadata": {
        "id": "WakrUkO4q3k9"
      },
      "source": [
        "import turtle          #turtle 모듈 불러오기\n",
        "t = turtle.Turtle()    #turtle을 t로 선언\n",
        "t.shape(\"turtle\")      #turtle 모듈의 아이콘을 거북이 모양으로 선언\n",
        "side = 200             #변수 side 값을 선언\n",
        "t.forward(side)        #앞으로 100픽셀 이동\n",
        "t.left(120)            #왼쪽으로 120도 회전\n",
        "t.forward(side)        #앞으로 100픽셀 이동\n",
        "t.left(120)            #왼쪽으로 120도 회전\n",
        "t.forward(side)        #앞으로 100픽셀 이동\n",
        "t.left(120)            #왼쪽으로 120도 회전"
      ],
      "execution_count": null,
      "outputs": []
    },
    {
      "cell_type": "code",
      "metadata": {
        "id": "FcpzqTo4ryvn"
      },
      "source": [
        "import turtle          #turtle 모듈 불러오기\n",
        "t = turtle.Turtle()    #turtle을 t로 선언\n",
        "t.shape(\"turtle\")      #turtle 모듈의 아이콘을 거북이 모양으로 선언\n",
        "side = 50              #변수 side 값을 선언(작은 사각형 한 변의 길이)\n",
        "angle = 90             #변수 angle 값을 선언(회전 각도)\n",
        "t.forward(side)        #앞으로 50픽셀 이동\n",
        "t.right(angle)         #오른쪽으로 90도 회전\n",
        "t.forward(side)        #앞으로 50픽셀 이동\n",
        "t.right(angle)         #오른쪽으로 90도 회전\n",
        "t.forward(side)        #앞으로 50픽셀 이동\n",
        "t.right(angle)         #오른쪽으로 90도 회전\n",
        "t.forward(side)        #앞으로 50픽셀 이동\n",
        "t.forward(side)        #앞으로 50픽셀 이동\n",
        "t.right(angle)         #오른쪽으로 90도 회전\n",
        "t.forward(side)        #앞으로 50픽셀 이동\n",
        "t.right(angle)         #오른쪽으로 90도 회전\n",
        "t.forward(side)        #앞으로 50픽셀 이동\n",
        "t.right(angle)         #오른쪽으로 90도 회전\n",
        "t.forward(100)         #앞으로 100픽셀 이동\n",
        "t.right(180)           #오른쪽으로 180도 회전\n",
        "t.forward(side)        #앞으로 50픽셀 이동\n",
        "t.right(angle)         #오른쪽으로 90도 회전\n",
        "t.forward(side)        #앞으로 50픽셀 이동\n",
        "t.right(angle)         #오른쪽으로 90도 회전\n",
        "t.forward(side)        #앞으로 50픽셀 이동\n",
        "t.right(angle)         #오른쪽으로 90도 회전\n",
        "t.forward(side)        #앞으로 50픽셀 이동\n",
        "t.forward(side)        #앞으로 50픽셀 이동\n",
        "t.right(angle)         #오른쪽으로 90도 회전\n",
        "t.forward(side)        #앞으로 50픽셀 이동\n",
        "t.right(angle)         #오른쪽으로 90도 회전\n",
        "t.forward(side)        #앞으로 50픽셀 이동"
      ],
      "execution_count": null,
      "outputs": []
    }
  ]
}